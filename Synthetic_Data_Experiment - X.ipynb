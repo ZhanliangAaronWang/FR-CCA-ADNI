{
 "cells": [
  {
   "cell_type": "markdown",
   "metadata": {},
   "source": [
    "# Preparation"
   ]
  },
  {
   "cell_type": "code",
   "execution_count": 1,
   "metadata": {},
   "outputs": [],
   "source": [
    "import os\n",
    "import pandas as pd\n",
    "import matplotlib.pyplot as plt\n",
    "import matplotlib.patches as patches\n",
    "import seaborn as sns\n",
    "import numpy as np\n",
    "import scipy.io\n",
    "from scipy.special import softmax\n",
    "from sklearn.svm import SVC\n",
    "from sklearn.cross_decomposition import CCA\n",
    "from sklearn.model_selection import train_test_split, GridSearchCV, StratifiedKFold\n",
    "from sklearn.metrics import classification_report, accuracy_score\n",
    "from sklearn.preprocessing import StandardScaler\n",
    "import copy\n",
    "from sklearn.calibration import calibration_curve\n",
    "from scipy import interpolate\n",
    "import logging\n",
    "logger = logging.getLogger(\"fair\")\n",
    "import time"
   ]
  },
  {
   "cell_type": "code",
   "execution_count": 2,
   "metadata": {},
   "outputs": [],
   "source": [
    "path = r\"...\"\n",
    "os.chdir(path)"
   ]
  },
  {
   "cell_type": "code",
   "execution_count": 3,
   "metadata": {},
   "outputs": [],
   "source": [
    "X = pd.read_csv(\"synthetic_data_X.csv\") \n",
    "Y = pd.read_csv(\"synthetic_data_Y.csv\") \n",
    "z = pd.read_csv(\"sensitive.csv\")\n",
    "label = pd.read_csv(\"label.csv\")"
   ]
  },
  {
   "cell_type": "code",
   "execution_count": 4,
   "metadata": {},
   "outputs": [],
   "source": [
    "X.drop(columns=X.columns[0], inplace=True)\n",
    "Y.drop(columns=Y.columns[0], inplace=True)\n",
    "z.drop(columns=z.columns[0], inplace=True)\n",
    "label.drop(columns=label.columns[0], inplace=True)"
   ]
  },
  {
   "cell_type": "code",
   "execution_count": 5,
   "metadata": {},
   "outputs": [
    {
     "data": {
      "text/html": [
       "<div>\n",
       "<style scoped>\n",
       "    .dataframe tbody tr th:only-of-type {\n",
       "        vertical-align: middle;\n",
       "    }\n",
       "\n",
       "    .dataframe tbody tr th {\n",
       "        vertical-align: top;\n",
       "    }\n",
       "\n",
       "    .dataframe thead th {\n",
       "        text-align: right;\n",
       "    }\n",
       "</style>\n",
       "<table border=\"1\" class=\"dataframe\">\n",
       "  <thead>\n",
       "    <tr style=\"text-align: right;\">\n",
       "      <th></th>\n",
       "      <th>0</th>\n",
       "      <th>1</th>\n",
       "      <th>2</th>\n",
       "      <th>3</th>\n",
       "      <th>4</th>\n",
       "      <th>5</th>\n",
       "      <th>6</th>\n",
       "      <th>7</th>\n",
       "      <th>8</th>\n",
       "      <th>9</th>\n",
       "      <th>...</th>\n",
       "      <th>45</th>\n",
       "      <th>46</th>\n",
       "      <th>47</th>\n",
       "      <th>48</th>\n",
       "      <th>49</th>\n",
       "      <th>50</th>\n",
       "      <th>51</th>\n",
       "      <th>52</th>\n",
       "      <th>53</th>\n",
       "      <th>54</th>\n",
       "    </tr>\n",
       "  </thead>\n",
       "  <tbody>\n",
       "    <tr>\n",
       "      <th>0</th>\n",
       "      <td>0.231833</td>\n",
       "      <td>0.067323</td>\n",
       "      <td>0.601193</td>\n",
       "      <td>0.129800</td>\n",
       "      <td>-0.197540</td>\n",
       "      <td>0.087016</td>\n",
       "      <td>-0.177555</td>\n",
       "      <td>-0.351037</td>\n",
       "      <td>-0.301460</td>\n",
       "      <td>-0.057862</td>\n",
       "      <td>...</td>\n",
       "      <td>-0.088177</td>\n",
       "      <td>0.196340</td>\n",
       "      <td>-0.453305</td>\n",
       "      <td>0.164936</td>\n",
       "      <td>-0.026206</td>\n",
       "      <td>-0.249087</td>\n",
       "      <td>-0.196344</td>\n",
       "      <td>0.550293</td>\n",
       "      <td>-0.105249</td>\n",
       "      <td>-0.239080</td>\n",
       "    </tr>\n",
       "    <tr>\n",
       "      <th>1</th>\n",
       "      <td>-0.294247</td>\n",
       "      <td>0.101822</td>\n",
       "      <td>-0.033049</td>\n",
       "      <td>-0.101412</td>\n",
       "      <td>-0.120017</td>\n",
       "      <td>0.348770</td>\n",
       "      <td>0.044132</td>\n",
       "      <td>-0.313527</td>\n",
       "      <td>-0.154874</td>\n",
       "      <td>0.133751</td>\n",
       "      <td>...</td>\n",
       "      <td>-0.127356</td>\n",
       "      <td>0.284231</td>\n",
       "      <td>-0.229541</td>\n",
       "      <td>0.049666</td>\n",
       "      <td>-0.210793</td>\n",
       "      <td>-0.047522</td>\n",
       "      <td>-0.111105</td>\n",
       "      <td>0.313510</td>\n",
       "      <td>-0.135614</td>\n",
       "      <td>-0.022544</td>\n",
       "    </tr>\n",
       "    <tr>\n",
       "      <th>2</th>\n",
       "      <td>-0.362530</td>\n",
       "      <td>-0.034981</td>\n",
       "      <td>-0.371719</td>\n",
       "      <td>-0.261221</td>\n",
       "      <td>0.115182</td>\n",
       "      <td>0.176349</td>\n",
       "      <td>-0.109677</td>\n",
       "      <td>0.135819</td>\n",
       "      <td>0.005883</td>\n",
       "      <td>0.022130</td>\n",
       "      <td>...</td>\n",
       "      <td>0.002416</td>\n",
       "      <td>0.058523</td>\n",
       "      <td>-0.043859</td>\n",
       "      <td>-0.058995</td>\n",
       "      <td>0.014325</td>\n",
       "      <td>0.165685</td>\n",
       "      <td>-0.257595</td>\n",
       "      <td>0.093505</td>\n",
       "      <td>0.085533</td>\n",
       "      <td>0.152656</td>\n",
       "    </tr>\n",
       "    <tr>\n",
       "      <th>3</th>\n",
       "      <td>-0.218923</td>\n",
       "      <td>-0.059219</td>\n",
       "      <td>-0.455640</td>\n",
       "      <td>0.065432</td>\n",
       "      <td>0.176740</td>\n",
       "      <td>-0.104267</td>\n",
       "      <td>0.214819</td>\n",
       "      <td>0.371585</td>\n",
       "      <td>0.316929</td>\n",
       "      <td>0.120349</td>\n",
       "      <td>...</td>\n",
       "      <td>0.119675</td>\n",
       "      <td>-0.122803</td>\n",
       "      <td>0.424549</td>\n",
       "      <td>-0.180956</td>\n",
       "      <td>-0.073814</td>\n",
       "      <td>0.167517</td>\n",
       "      <td>0.399852</td>\n",
       "      <td>-0.585392</td>\n",
       "      <td>0.131530</td>\n",
       "      <td>0.207197</td>\n",
       "    </tr>\n",
       "    <tr>\n",
       "      <th>4</th>\n",
       "      <td>0.014943</td>\n",
       "      <td>0.007254</td>\n",
       "      <td>-0.048290</td>\n",
       "      <td>-0.111945</td>\n",
       "      <td>-0.011746</td>\n",
       "      <td>0.020405</td>\n",
       "      <td>-0.015400</td>\n",
       "      <td>-0.060813</td>\n",
       "      <td>-0.030355</td>\n",
       "      <td>-0.037788</td>\n",
       "      <td>...</td>\n",
       "      <td>-0.033743</td>\n",
       "      <td>-0.032065</td>\n",
       "      <td>-0.003358</td>\n",
       "      <td>0.025402</td>\n",
       "      <td>0.052292</td>\n",
       "      <td>0.029138</td>\n",
       "      <td>-0.127120</td>\n",
       "      <td>0.051101</td>\n",
       "      <td>-0.040173</td>\n",
       "      <td>-0.002063</td>\n",
       "    </tr>\n",
       "  </tbody>\n",
       "</table>\n",
       "<p>5 rows × 55 columns</p>\n",
       "</div>"
      ],
      "text/plain": [
       "          0         1         2         3         4         5         6  \\\n",
       "0  0.231833  0.067323  0.601193  0.129800 -0.197540  0.087016 -0.177555   \n",
       "1 -0.294247  0.101822 -0.033049 -0.101412 -0.120017  0.348770  0.044132   \n",
       "2 -0.362530 -0.034981 -0.371719 -0.261221  0.115182  0.176349 -0.109677   \n",
       "3 -0.218923 -0.059219 -0.455640  0.065432  0.176740 -0.104267  0.214819   \n",
       "4  0.014943  0.007254 -0.048290 -0.111945 -0.011746  0.020405 -0.015400   \n",
       "\n",
       "          7         8         9  ...        45        46        47        48  \\\n",
       "0 -0.351037 -0.301460 -0.057862  ... -0.088177  0.196340 -0.453305  0.164936   \n",
       "1 -0.313527 -0.154874  0.133751  ... -0.127356  0.284231 -0.229541  0.049666   \n",
       "2  0.135819  0.005883  0.022130  ...  0.002416  0.058523 -0.043859 -0.058995   \n",
       "3  0.371585  0.316929  0.120349  ...  0.119675 -0.122803  0.424549 -0.180956   \n",
       "4 -0.060813 -0.030355 -0.037788  ... -0.033743 -0.032065 -0.003358  0.025402   \n",
       "\n",
       "         49        50        51        52        53        54  \n",
       "0 -0.026206 -0.249087 -0.196344  0.550293 -0.105249 -0.239080  \n",
       "1 -0.210793 -0.047522 -0.111105  0.313510 -0.135614 -0.022544  \n",
       "2  0.014325  0.165685 -0.257595  0.093505  0.085533  0.152656  \n",
       "3 -0.073814  0.167517  0.399852 -0.585392  0.131530  0.207197  \n",
       "4  0.052292  0.029138 -0.127120  0.051101 -0.040173 -0.002063  \n",
       "\n",
       "[5 rows x 55 columns]"
      ]
     },
     "execution_count": 5,
     "metadata": {},
     "output_type": "execute_result"
    }
   ],
   "source": [
    "X.head()"
   ]
  },
  {
   "cell_type": "code",
   "execution_count": 6,
   "metadata": {},
   "outputs": [
    {
     "data": {
      "text/html": [
       "<div>\n",
       "<style scoped>\n",
       "    .dataframe tbody tr th:only-of-type {\n",
       "        vertical-align: middle;\n",
       "    }\n",
       "\n",
       "    .dataframe tbody tr th {\n",
       "        vertical-align: top;\n",
       "    }\n",
       "\n",
       "    .dataframe thead th {\n",
       "        text-align: right;\n",
       "    }\n",
       "</style>\n",
       "<table border=\"1\" class=\"dataframe\">\n",
       "  <thead>\n",
       "    <tr style=\"text-align: right;\">\n",
       "      <th></th>\n",
       "      <th>0</th>\n",
       "      <th>1</th>\n",
       "      <th>2</th>\n",
       "      <th>3</th>\n",
       "      <th>4</th>\n",
       "      <th>5</th>\n",
       "      <th>6</th>\n",
       "      <th>7</th>\n",
       "      <th>8</th>\n",
       "      <th>9</th>\n",
       "      <th>...</th>\n",
       "      <th>50</th>\n",
       "      <th>51</th>\n",
       "      <th>52</th>\n",
       "      <th>53</th>\n",
       "      <th>54</th>\n",
       "      <th>55</th>\n",
       "      <th>56</th>\n",
       "      <th>57</th>\n",
       "      <th>58</th>\n",
       "      <th>59</th>\n",
       "    </tr>\n",
       "  </thead>\n",
       "  <tbody>\n",
       "    <tr>\n",
       "      <th>0</th>\n",
       "      <td>-0.350358</td>\n",
       "      <td>-0.494288</td>\n",
       "      <td>-0.101563</td>\n",
       "      <td>-0.116336</td>\n",
       "      <td>-0.067924</td>\n",
       "      <td>0.196027</td>\n",
       "      <td>-0.049688</td>\n",
       "      <td>-0.383029</td>\n",
       "      <td>0.532692</td>\n",
       "      <td>-0.145506</td>\n",
       "      <td>...</td>\n",
       "      <td>0.049599</td>\n",
       "      <td>0.406780</td>\n",
       "      <td>0.507896</td>\n",
       "      <td>-0.321379</td>\n",
       "      <td>-0.376660</td>\n",
       "      <td>0.243324</td>\n",
       "      <td>0.200197</td>\n",
       "      <td>-0.010141</td>\n",
       "      <td>-0.197722</td>\n",
       "      <td>0.107093</td>\n",
       "    </tr>\n",
       "    <tr>\n",
       "      <th>1</th>\n",
       "      <td>0.083419</td>\n",
       "      <td>0.101436</td>\n",
       "      <td>0.119462</td>\n",
       "      <td>-0.125624</td>\n",
       "      <td>0.358145</td>\n",
       "      <td>0.111752</td>\n",
       "      <td>0.035281</td>\n",
       "      <td>-0.198218</td>\n",
       "      <td>-0.061746</td>\n",
       "      <td>0.284161</td>\n",
       "      <td>...</td>\n",
       "      <td>-0.129471</td>\n",
       "      <td>-0.145216</td>\n",
       "      <td>-0.071335</td>\n",
       "      <td>0.047402</td>\n",
       "      <td>0.060053</td>\n",
       "      <td>0.192353</td>\n",
       "      <td>-0.018840</td>\n",
       "      <td>-0.060244</td>\n",
       "      <td>0.081771</td>\n",
       "      <td>0.019553</td>\n",
       "    </tr>\n",
       "    <tr>\n",
       "      <th>2</th>\n",
       "      <td>0.302781</td>\n",
       "      <td>0.317869</td>\n",
       "      <td>0.053526</td>\n",
       "      <td>-0.050046</td>\n",
       "      <td>0.232769</td>\n",
       "      <td>0.003385</td>\n",
       "      <td>0.116797</td>\n",
       "      <td>0.095482</td>\n",
       "      <td>0.086471</td>\n",
       "      <td>0.188548</td>\n",
       "      <td>...</td>\n",
       "      <td>-0.338896</td>\n",
       "      <td>-0.031668</td>\n",
       "      <td>0.104080</td>\n",
       "      <td>0.128411</td>\n",
       "      <td>0.038426</td>\n",
       "      <td>0.049675</td>\n",
       "      <td>0.138664</td>\n",
       "      <td>0.098581</td>\n",
       "      <td>-0.003071</td>\n",
       "      <td>0.014322</td>\n",
       "    </tr>\n",
       "    <tr>\n",
       "      <th>3</th>\n",
       "      <td>0.348007</td>\n",
       "      <td>0.410152</td>\n",
       "      <td>-0.005465</td>\n",
       "      <td>0.110242</td>\n",
       "      <td>-0.049697</td>\n",
       "      <td>-0.139849</td>\n",
       "      <td>0.107572</td>\n",
       "      <td>0.394407</td>\n",
       "      <td>-0.150885</td>\n",
       "      <td>0.013386</td>\n",
       "      <td>...</td>\n",
       "      <td>-0.240495</td>\n",
       "      <td>-0.105557</td>\n",
       "      <td>-0.132170</td>\n",
       "      <td>0.214816</td>\n",
       "      <td>0.169790</td>\n",
       "      <td>-0.250583</td>\n",
       "      <td>0.003963</td>\n",
       "      <td>0.118731</td>\n",
       "      <td>0.022074</td>\n",
       "      <td>-0.059402</td>\n",
       "    </tr>\n",
       "    <tr>\n",
       "      <th>4</th>\n",
       "      <td>0.165834</td>\n",
       "      <td>0.200000</td>\n",
       "      <td>-0.053965</td>\n",
       "      <td>0.124930</td>\n",
       "      <td>-0.271873</td>\n",
       "      <td>-0.419176</td>\n",
       "      <td>-0.068378</td>\n",
       "      <td>0.470327</td>\n",
       "      <td>0.229377</td>\n",
       "      <td>-0.253727</td>\n",
       "      <td>...</td>\n",
       "      <td>0.192184</td>\n",
       "      <td>0.111317</td>\n",
       "      <td>0.368121</td>\n",
       "      <td>0.108758</td>\n",
       "      <td>-0.062731</td>\n",
       "      <td>0.002085</td>\n",
       "      <td>0.334405</td>\n",
       "      <td>0.246663</td>\n",
       "      <td>-0.039710</td>\n",
       "      <td>0.020417</td>\n",
       "    </tr>\n",
       "  </tbody>\n",
       "</table>\n",
       "<p>5 rows × 60 columns</p>\n",
       "</div>"
      ],
      "text/plain": [
       "          0         1         2         3         4         5         6  \\\n",
       "0 -0.350358 -0.494288 -0.101563 -0.116336 -0.067924  0.196027 -0.049688   \n",
       "1  0.083419  0.101436  0.119462 -0.125624  0.358145  0.111752  0.035281   \n",
       "2  0.302781  0.317869  0.053526 -0.050046  0.232769  0.003385  0.116797   \n",
       "3  0.348007  0.410152 -0.005465  0.110242 -0.049697 -0.139849  0.107572   \n",
       "4  0.165834  0.200000 -0.053965  0.124930 -0.271873 -0.419176 -0.068378   \n",
       "\n",
       "          7         8         9  ...        50        51        52        53  \\\n",
       "0 -0.383029  0.532692 -0.145506  ...  0.049599  0.406780  0.507896 -0.321379   \n",
       "1 -0.198218 -0.061746  0.284161  ... -0.129471 -0.145216 -0.071335  0.047402   \n",
       "2  0.095482  0.086471  0.188548  ... -0.338896 -0.031668  0.104080  0.128411   \n",
       "3  0.394407 -0.150885  0.013386  ... -0.240495 -0.105557 -0.132170  0.214816   \n",
       "4  0.470327  0.229377 -0.253727  ...  0.192184  0.111317  0.368121  0.108758   \n",
       "\n",
       "         54        55        56        57        58        59  \n",
       "0 -0.376660  0.243324  0.200197 -0.010141 -0.197722  0.107093  \n",
       "1  0.060053  0.192353 -0.018840 -0.060244  0.081771  0.019553  \n",
       "2  0.038426  0.049675  0.138664  0.098581 -0.003071  0.014322  \n",
       "3  0.169790 -0.250583  0.003963  0.118731  0.022074 -0.059402  \n",
       "4 -0.062731  0.002085  0.334405  0.246663 -0.039710  0.020417  \n",
       "\n",
       "[5 rows x 60 columns]"
      ]
     },
     "execution_count": 6,
     "metadata": {},
     "output_type": "execute_result"
    }
   ],
   "source": [
    "Y.head()"
   ]
  },
  {
   "cell_type": "code",
   "execution_count": 7,
   "metadata": {},
   "outputs": [],
   "source": [
    "X = np.array(X)\n",
    "Y = np.array(Y)"
   ]
  },
  {
   "cell_type": "code",
   "execution_count": 8,
   "metadata": {},
   "outputs": [],
   "source": [
    "label = np.array(label)+1\n",
    "z = np.array(z)+1"
   ]
  },
  {
   "cell_type": "markdown",
   "metadata": {},
   "source": [
    "# FRCCA"
   ]
  },
  {
   "cell_type": "code",
   "execution_count": 9,
   "metadata": {},
   "outputs": [],
   "source": [
    "import numpy as np\n",
    "from sklearn.cross_decomposition import CCA\n",
    "\n",
    "class FairCCA:\n",
    "    def __init__(self, R, scale=True, max_iter=int(1e4), tol=1e-10):\n",
    "        self.R = R\n",
    "        self.scale = scale\n",
    "        self.max_iter = max_iter\n",
    "        self.tol = tol\n",
    "        self.R_x = None\n",
    "        self.R_y = None\n",
    "        self.cca = CCA(n_components=R, scale=scale, max_iter=max_iter, tol=tol)\n",
    "        \n",
    "    def fit(self, X, Y, z):\n",
    "        X = (X - X.mean(axis=0)) / X.std(axis=0)\n",
    "        Y = (Y - Y.mean(axis=0)) / Y.std(axis=0)\n",
    "        z = (z - z.mean()) / z.std()\n",
    "        z = z.reshape(-1, 1)\n",
    "        \n",
    "        zX = z.T @ X\n",
    "        _, _, Vt_x = np.linalg.svd(zX)\n",
    "        self.R_x = Vt_x[:, 1:]\n",
    "        \n",
    "        zY = z.T @ Y\n",
    "        _, _, Vt_y = np.linalg.svd(zY)\n",
    "        self.R_y = Vt_y[:, 1:]\n",
    "        \n",
    "        X_new = X @ self.R_x\n",
    "        Y_new = Y @ self.R_y\n",
    "        \n",
    "        self.cca.fit(X_new, Y_new)\n",
    "        \n",
    "    def transform(self, X, Y):\n",
    "        X_new = (X - X.mean(axis=0)) / X.std(axis=0)\n",
    "        Y_new = (Y - Y.mean(axis=0)) / Y.std(axis=0)\n",
    "        X_transformed = X_new @ self.R_x\n",
    "        Y_transformed = Y_new @ self.R_y\n",
    "        X_c, Y_c = self.cca.transform(X_transformed, Y_transformed)\n",
    "        X_c = X_c / (np.sqrt(np.sum(X_c**2, axis=0)))\n",
    "        Y_c = Y_c / (np.sqrt(np.sum(Y_c**2, axis=0)))\n",
    "        return X_c, Y_c\n",
    "    \n",
    "    def fit_transform(self, X, Y, z):\n",
    "        self.fit(X, Y, z)\n",
    "        return self.transform(X, Y)\n"
   ]
  },
  {
   "cell_type": "markdown",
   "metadata": {},
   "source": [
    "# Baseline Experiment for Percentage Change of Correlation and Fairness"
   ]
  },
  {
   "cell_type": "markdown",
   "metadata": {},
   "source": [
    "## Fairness and Correlation for FRCCA"
   ]
  },
  {
   "cell_type": "code",
   "execution_count": 10,
   "metadata": {},
   "outputs": [
    {
     "data": {
      "text/plain": [
       "(array([0.85040746, 1.6785636 , 2.40269643, 3.08413301]),\n",
       " array([19.43651827, 41.30895886, 60.60520151, 77.23738744]),\n",
       " array([19.44250595, 38.80074305, 60.03078532, 74.34604407]))"
      ]
     },
     "execution_count": 10,
     "metadata": {},
     "output_type": "execute_result"
    }
   ],
   "source": [
    "corr_FRCCA_dim = []\n",
    "fairness_FRCCA_dimX = []\n",
    "fairness_FRCCA_dimY = []\n",
    "for i in range(1, 5):\n",
    "    fair_cca = FairCCA(R=i)\n",
    "    X_proj, Y_proj = fair_cca.fit_transform(X, Y, z)\n",
    "    cov_FRCCA = X_proj.T@Y_proj\n",
    "    corr_FRCCA = np.trace(cov_FRCCA)\n",
    "    corr_FRCCA_dim.append(corr_FRCCA)\n",
    "    fairness_FRCCAX= np.sum(np.abs(np.log(np.abs(z.T@X_proj))))\n",
    "    fairness_FRCCA_dimX.append(fairness_FRCCAX)\n",
    "    fairness_FRCCAY= np.sum(np.abs(np.log(np.abs(z.T@Y_proj))))\n",
    "    fairness_FRCCA_dimY.append(fairness_FRCCAY)\n",
    "\n",
    "corr_FRCCA_dim = np.array(corr_FRCCA_dim)\n",
    "fairness_FRCCA_dimX= np.array(fairness_FRCCA_dimX)\n",
    "fairness_FRCCA_dimY = np.array(fairness_FRCCA_dimY)\n",
    "corr_FRCCA_dim, fairness_FRCCA_dimX, fairness_FRCCA_dimY"
   ]
  },
  {
   "cell_type": "code",
   "execution_count": 11,
   "metadata": {},
   "outputs": [
    {
     "data": {
      "text/plain": [
       "(0.33866190910339355, 0.006443470232528291)"
      ]
     },
     "execution_count": 11,
     "metadata": {},
     "output_type": "execute_result"
    }
   ],
   "source": [
    "times_FR = []\n",
    "for i in range(10):\n",
    "    time1 = time.time()\n",
    "    fair_cca_time = FairCCA(R=7)\n",
    "    X_proj, Y_proj = fair_cca_time.fit_transform(X, Y, z)\n",
    "    time2 = time.time()\n",
    "    times = time2-time1\n",
    "    times_FR.append(times)\n",
    "np.mean(times_FR), np.std(times_FR)"
   ]
  },
  {
   "cell_type": "markdown",
   "metadata": {},
   "source": [
    "## Baseline 1: Foundational CCA"
   ]
  },
  {
   "cell_type": "code",
   "execution_count": 12,
   "metadata": {},
   "outputs": [
    {
     "data": {
      "text/plain": [
       "(array([0.86088997, 1.6940505 , 2.4396986 , 3.15861687]),\n",
       " array([0.21250878, 1.11489377, 1.9938742 , 2.42382116]),\n",
       " array([1.21002277, 4.68297534, 5.27707475, 5.48212539]))"
      ]
     },
     "execution_count": 12,
     "metadata": {},
     "output_type": "execute_result"
    }
   ],
   "source": [
    "corr_traditional_CCA_dim = []\n",
    "fairness_traditional_CCA_dimX = []\n",
    "fairness_traditional_CCA_dimY = []\n",
    "for i in range(1, 5):\n",
    "    cca = CCA(n_components=i)\n",
    "    cca.fit(X,Y)\n",
    "    X_c, Y_c = cca.transform(X, Y)\n",
    "    X_c = X_c / (np.sqrt(np.sum(X_c**2, axis=0)))\n",
    "    Y_c = Y_c / (np.sqrt(np.sum(Y_c**2, axis=0)))\n",
    "    cov_trad_CCA = X_c.T@Y_c\n",
    "    corr_trad_CCA = np.trace(cov_trad_CCA)\n",
    "    corr_traditional_CCA_dim.append(corr_trad_CCA)\n",
    "    fairness_traditional_CCAX = np.sum(np.abs(np.log(np.abs(z.T@X_c))))\n",
    "    fairness_traditional_CCA_dimX.append(fairness_traditional_CCAX)\n",
    "    fairness_traditional_CCAY = np.sum(np.abs(np.log(np.abs(z.T@Y_c))))\n",
    "    fairness_traditional_CCA_dimY.append(fairness_traditional_CCAY)\n",
    "\n",
    "\n",
    "corr_traditional_CCA_dim = np.array(corr_traditional_CCA_dim)\n",
    "fairness_traditional_CCA_dimX = np.array(fairness_traditional_CCA_dimX)\n",
    "fairness_traditional_CCA_dimY = np.array(fairness_traditional_CCA_dimY)\n",
    "corr_traditional_CCA_dim, fairness_traditional_CCA_dimX, fairness_traditional_CCA_dimY"
   ]
  },
  {
   "cell_type": "code",
   "execution_count": 13,
   "metadata": {},
   "outputs": [
    {
     "data": {
      "text/plain": [
       "(0.25929386615753175, 0.006794293583049235)"
      ]
     },
     "execution_count": 13,
     "metadata": {},
     "output_type": "execute_result"
    }
   ],
   "source": [
    "times_trad = []\n",
    "for i in range(10):\n",
    "    time1 = time.time()\n",
    "    cca2 = CCA(n_components=7)\n",
    "    cca2.fit(X,Y)\n",
    "    X_c, Y_c = cca.transform(X, Y)\n",
    "    time2 = time.time()\n",
    "    times = time2-time1\n",
    "    times_trad.append(times)\n",
    "np.mean(times_trad), np.std(times_trad)"
   ]
  },
  {
   "cell_type": "markdown",
   "metadata": {},
   "source": [
    "# Plot for Baseline 1"
   ]
  },
  {
   "cell_type": "code",
   "execution_count": null,
   "metadata": {},
   "outputs": [],
   "source": [
    "from matplotlib.ticker import MaxNLocator\n",
    "\n",
    "dimensions = np.array([1, 2, 3, 4])\n",
    "corr_change = (corr_FRCCA_dim - corr_traditional_CCA_dim) / corr_traditional_CCA_dim \n",
    "fairnessX = (fairness_FRCCA_dimX - fairness_traditional_CCA_dimX) / fairness_traditional_CCA_dimX\n",
    "fairnessY = (fairness_FRCCA_dimY - fairness_traditional_CCA_dimY) / fairness_traditional_CCA_dimY\n",
    "fairness = (fairnessX + fairnessY) / 2\n",
    "fig, ax = plt.subplots(figsize = (8,5))\n",
    "ax.xaxis.set_major_locator(MaxNLocator(integer=True))\n",
    "ax.tick_params(axis='x', labelsize=18)  \n",
    "ax.tick_params(axis='y', labelsize=18)  \n",
    "fairness_bars = ax.bar(dimensions, fairness, width=0.4, color='orange', label='Fairness')\n",
    "\n",
    "\n",
    "correlation_bars = ax.bar(dimensions + 0.4, corr_change * 500, width=0.4, color='lightblue', label='Correlation')\n",
    "\n",
    "\n",
    "for bar in fairness_bars:\n",
    "    yval = bar.get_height()\n",
    "    plt.text(bar.get_x() + bar.get_width()/2, yval, f\"{yval:.2f}\", ha='center', va='bottom')\n",
    "\n",
    "for bar in correlation_bars:\n",
    "    yval = bar.get_height()\n",
    "    yval_2 = yval / 500\n",
    "    if yval <= 0:\n",
    "        plt.text(bar.get_x() + bar.get_width()/2, yval , f\"{yval_2:.3f}\", ha='center', va='top')\n",
    "    else:\n",
    "        plt.text(bar.get_x() + bar.get_width()/2, yval , f\"{yval_2:.3f}\", ha='center', va='bottom')\n",
    "ax.set_ylim(-20, 60)        \n",
    "ticks = np.array(ax.get_yticks())\n",
    "\n",
    "ticks_to_change = ticks == -20\n",
    "\n",
    "ticks[ticks_to_change] = -0.01\n",
    "\n",
    "ax.set_yticklabels(ticks)\n",
    "plt.grid(False)\n",
    "ax.grid(True, which='both', axis='y', linestyle='--', linewidth=1.5, color='grey')\n",
    "ax.set_xlabel('Dimension', fontsize=18, fontweight='bold')\n",
    "ax.set_ylabel('Percentage Change', fontsize=18, fontweight='bold')\n",
    "\n",
    "plt.show()\n"
   ]
  },
  {
   "cell_type": "markdown",
   "metadata": {},
   "source": [
    "## Baseline 2: SFCCA "
   ]
  },
  {
   "cell_type": "code",
   "execution_count": 15,
   "metadata": {},
   "outputs": [
    {
     "data": {
      "text/plain": [
       "(array([0.84566917, 1.66993436, 2.38561511, 3.07062383]),\n",
       " array([1.67904399, 2.21974361, 2.75353881, 2.93968773]),\n",
       " array([0.8813568 , 1.66216016, 2.74997617, 3.48148984]))"
      ]
     },
     "execution_count": 15,
     "metadata": {},
     "output_type": "execute_result"
    }
   ],
   "source": [
    "corr_SFCCA_dim = []\n",
    "fairness_SFCCA_dimX = []\n",
    "fairness_SFCCA_dimY = []\n",
    "for i in range(1, 5):\n",
    "    address = fr\"...\"\n",
    "    mat = scipy.io.loadmat(address)\n",
    "    U = mat[f'U_SF']\n",
    "    V = mat[f'V_SF']\n",
    "    X_proj = X@U\n",
    "    Y_proj = Y@V\n",
    "    X_proj = X_proj / (np.sqrt(np.sum(X_proj**2, axis=0)))\n",
    "    Y_proj = Y_proj / (np.sqrt(np.sum(Y_proj**2, axis=0)))\n",
    "    cov_SFCCA = X_proj.T@Y_proj\n",
    "    corr_SFCCA = np.trace(cov_SFCCA)\n",
    "    corr_SFCCA_dim.append(corr_SFCCA)\n",
    "    fairness_SFCCAX= np.sum(np.abs(np.log(np.abs(z.T@X_proj))))\n",
    "    fairness_SFCCA_dimX.append(fairness_SFCCAX)\n",
    "    fairness_SFCCAY= np.sum(np.abs(np.log(np.abs(z.T@Y_proj))))\n",
    "    fairness_SFCCA_dimY.append(fairness_SFCCAY)\n",
    "\n",
    "corr_SFCCA_dim = np.abs(np.array(corr_SFCCA_dim))\n",
    "fairness_SFCCA_dimX= np.array(fairness_SFCCA_dimX)\n",
    "fairness_SFCCA_dimY = np.array(fairness_SFCCA_dimY)\n",
    "corr_SFCCA_dim, fairness_SFCCA_dimX, fairness_SFCCA_dimY"
   ]
  },
  {
   "cell_type": "markdown",
   "metadata": {},
   "source": [
    "### Plot for Baseline 2"
   ]
  },
  {
   "cell_type": "code",
   "execution_count": null,
   "metadata": {},
   "outputs": [],
   "source": [
    "from matplotlib.ticker import MaxNLocator\n",
    "\n",
    "plt.rcParams.update({'font.size': 18})\n",
    "dimensions = np.array([1, 2, 3, 4])\n",
    "corr_change = (corr_FRCCA_dim - corr_SFCCA_dim) / corr_SFCCA_dim \n",
    "fairnessX = (fairness_FRCCA_dimX - fairness_SFCCA_dimX) / fairness_SFCCA_dimX\n",
    "fairnessY = (fairness_FRCCA_dimY - fairness_SFCCA_dimY) / fairness_SFCCA_dimY\n",
    "fairness = (fairnessX + fairnessY) / 2\n",
    "fig, ax = plt.subplots(figsize = (8,5))\n",
    "ax.xaxis.set_major_locator(MaxNLocator(integer=True))\n",
    "ax.tick_params(axis='x', labelsize=18)  \n",
    "ax.tick_params(axis='y', labelsize=18)  \n",
    "\n",
    "fairness_bars = ax.bar(dimensions, fairness, width=0.4, color='orange', label='Fairness')\n",
    "\n",
    "\n",
    "correlation_bars = ax.bar(dimensions + 0.4, corr_change*200, width=0.4, color='lightblue', label='Correlation')\n",
    "\n",
    "\n",
    "for bar in fairness_bars:\n",
    "    yval = bar.get_height()\n",
    "    plt.text(bar.get_x() + bar.get_width()/2, yval, f\"{yval:.2f}\", ha='center', va='bottom')\n",
    "\n",
    "for bar in correlation_bars:\n",
    "    yval = bar.get_height()\n",
    "    yval_2 = yval/200\n",
    "    if yval <= 0:\n",
    "        plt.text(bar.get_x() + bar.get_width()/2, yval , f\"{yval_2:.3f}\", ha='center', va='top')\n",
    "    else:\n",
    "        plt.text(bar.get_x() + bar.get_width()/2, yval , f\"{yval_2:.3f}\", ha='center', va='bottom')\n",
    "ax.set_ylim(-1, 26)        \n",
    "ticks = np.array(ax.get_yticks())\n",
    "\n",
    "ticks_to_change = ticks == -10\n",
    "\n",
    "ticks[ticks_to_change] = -0.05\n",
    "\n",
    "ax.set_yticklabels(ticks)\n",
    "plt.grid(False)\n",
    "ax.grid(True, which='both', axis='y', linestyle='--', linewidth=1.5, color='grey')\n",
    "ax.set_xlabel('Dimension', fontsize=18, fontweight='bold')\n",
    "ax.set_ylabel('Percentage Change',fontsize=18, fontweight='bold')\n",
    "\n",
    "plt.show()\n"
   ]
  },
  {
   "cell_type": "code",
   "execution_count": 17,
   "metadata": {},
   "outputs": [
    {
     "data": {
      "image/png": "[encoded data removed]",
      "text/plain": [
       "<Figure size 800x10 with 1 Axes>"
      ]
     },
     "metadata": {},
     "output_type": "display_data"
    }
   ],
   "source": [
    "patch1 = patches.Patch(color='orange', label='Fairness')\n",
    "patch2 = patches.Patch(color='lightblue', label='Correlation')\n",
    "\n",
    "plt.figure(figsize=(8, 0.1))\n",
    "plt.axis('off')\n",
    "\n",
    "plt.legend(handles=[patch1, patch2], loc='center', ncol=2, frameon=False, fontsize=18)\n",
    "\n",
    "plt.show()"
   ]
  },
  {
   "cell_type": "markdown",
   "metadata": {},
   "source": [
    "## Baseline 3: MFCCA"
   ]
  },
  {
   "cell_type": "code",
   "execution_count": 18,
   "metadata": {},
   "outputs": [
    {
     "data": {
      "text/plain": [
       "(array([0.85465515, 1.68572823, 2.41566681, 3.12638881]),\n",
       " array([1.46485142, 1.76044868, 2.17290401, 2.4071758 ]),\n",
       " array([0.79237527, 1.6665283 , 2.83215772, 3.69152987]))"
      ]
     },
     "execution_count": 18,
     "metadata": {},
     "output_type": "execute_result"
    }
   ],
   "source": [
    "corr_MFCCA_dim = []\n",
    "fairness_MFCCA_dimX = []\n",
    "fairness_MFCCA_dimY = []\n",
    "for i in range(1, 5):\n",
    "    address = fr\"...\"\n",
    "    mat = scipy.io.loadmat(address)\n",
    "    U = mat[f'U_MF']\n",
    "    V = mat[f'V_MF']\n",
    "    X_proj = X@U\n",
    "    Y_proj = Y@V\n",
    "    X_proj = X_proj / (np.sqrt(np.sum(X_proj**2, axis=0)))\n",
    "    Y_proj = Y_proj / (np.sqrt(np.sum(Y_proj**2, axis=0)))\n",
    "    cov_MFCCA = X_proj.T@Y_proj\n",
    "    corr_MFCCA = np.trace(cov_MFCCA)\n",
    "    corr_MFCCA_dim.append(corr_MFCCA)\n",
    "    fairness_MFCCAX= np.sum(np.abs(np.log(np.abs(z.T@X_proj))))\n",
    "    fairness_MFCCA_dimX.append(fairness_MFCCAX)\n",
    "    fairness_MFCCAY= np.sum(np.abs(np.log(np.abs(z.T@Y_proj))))\n",
    "    fairness_MFCCA_dimY.append(fairness_MFCCAY)\n",
    "\n",
    "corr_MFCCA_dim = np.abs(np.array(corr_MFCCA_dim))\n",
    "fairness_MFCCA_dimX= np.array(fairness_MFCCA_dimX)\n",
    "fairness_MFCCA_dimY = np.array(fairness_MFCCA_dimY)\n",
    "corr_MFCCA_dim, fairness_MFCCA_dimX, fairness_MFCCA_dimY"
   ]
  },
  {
   "cell_type": "markdown",
   "metadata": {},
   "source": [
    "### Plot"
   ]
  },
  {
   "cell_type": "code",
   "execution_count": null,
   "metadata": {},
   "outputs": [],
   "source": [
    "from matplotlib.ticker import MaxNLocator\n",
    "\n",
    "plt.rcParams.update({'font.size': 18})\n",
    "dimensions = np.array([1, 2, 3, 4])\n",
    "corr_change = (corr_FRCCA_dim - corr_MFCCA_dim) / corr_MFCCA_dim \n",
    "fairnessX = (fairness_FRCCA_dimX - fairness_MFCCA_dimX) / fairness_MFCCA_dimX\n",
    "fairnessY = (fairness_FRCCA_dimY - fairness_MFCCA_dimY) / fairness_MFCCA_dimY\n",
    "fairness = (fairnessX + fairnessY) / 2\n",
    "fig, ax = plt.subplots(figsize = (8,5))\n",
    "ax.xaxis.set_major_locator(MaxNLocator(integer=True))\n",
    "ax.tick_params(axis='x', labelsize=18)  \n",
    "ax.tick_params(axis='y', labelsize=18)  \n",
    "\n",
    "fairness_bars = ax.bar(dimensions, fairness, width=0.4, color='orange', label='Fairness')\n",
    "\n",
    "correlation_bars = ax.bar(dimensions + 0.4, corr_change * 500, width=0.4, color='lightblue', label='Correlation')\n",
    "\n",
    "\n",
    "for bar in fairness_bars:\n",
    "    yval = bar.get_height()\n",
    "    plt.text(bar.get_x() + bar.get_width()/2, yval, f\"{yval:.2f}\", ha='center', va='bottom')\n",
    "\n",
    "for bar in correlation_bars:\n",
    "    yval = bar.get_height()\n",
    "    yval_2 = yval / 500\n",
    "    if yval <= 0:\n",
    "        plt.text(bar.get_x() + bar.get_width()/2, yval , f\"{yval_2:.3f}\", ha='center', va='top')\n",
    "    else:\n",
    "        plt.text(bar.get_x() + bar.get_width()/2, yval , f\"{yval_2:.3f}\", ha='center', va='bottom')\n",
    "ax.set_ylim(-10, 26)        \n",
    "ticks = np.array(ax.get_yticks())\n",
    "\n",
    "ticks_to_change = ticks == -10\n",
    "\n",
    "ticks[ticks_to_change] = -0.02\n",
    "\n",
    "ax.set_yticklabels(ticks)\n",
    "plt.grid(False)\n",
    "ax.grid(True, which='both', axis='y', linestyle='--', linewidth=1.5, color='grey')\n",
    "ax.set_xlabel('Dimension', fontsize=18, fontweight='bold')\n",
    "ax.set_ylabel('Percentage Change',fontsize=18, fontweight='bold')\n",
    "\n",
    "plt.show()\n"
   ]
  },
  {
   "cell_type": "markdown",
   "metadata": {},
   "source": [
    "# Subsequent Classification Task"
   ]
  },
  {
   "cell_type": "markdown",
   "metadata": {},
   "source": [
    "## Fairness Metrics: Demographic Parity Gap (DPG), Equalized Odds Gap (EOG), Group Sufficiency Gap (GSG)"
   ]
  },
  {
   "cell_type": "markdown",
   "metadata": {},
   "source": [
    "### DPG:"
   ]
  },
  {
   "cell_type": "code",
   "execution_count": 20,
   "metadata": {},
   "outputs": [],
   "source": [
    "def demographic_parity_multiclass_PR(y_hat, sensitive_features, class_idx):\n",
    "        # measure the difference between the positive rates (TPR+FPR) of different groups\n",
    "    y_hat = y_hat.ravel()\n",
    "    values_of_sensible_feature = np.unique(sensitive_features)\n",
    "    #print(values_of_sensible_feature)\n",
    "    all_positive = np.sum([1.0 if y_hat[i] == class_idx else 0.0 for i in range(len(y_hat))])\n",
    "    all_positive_rate = all_positive / len(y_hat)\n",
    "    female_category = values_of_sensible_feature[0]\n",
    "    male_category = values_of_sensible_feature[1]\n",
    "    positive_female = np.sum([1.0 if sensitive_features[i] == female_category and y_hat[i] == class_idx \n",
    "                              else 0.0 for i in range(len(y_hat))])\n",
    "    female_num = np.sum([1.0 if sensitive_features[i] == female_category else 0.0 for i in range(len(y_hat))])\n",
    "    positive_rate_female = positive_female / female_num\n",
    "        \n",
    "        \n",
    "    positive_male = np.sum([1.0 if sensitive_features[i] == male_category and y_hat[i] == class_idx \n",
    "                            else 0.0 for i in range(len(y_hat))])\n",
    "    male_num = np.sum([1.0 if sensitive_features[i] == male_category else 0.0 for i in range(len(y_hat))])\n",
    "    positive_rate_male = positive_male / male_num\n",
    "    \n",
    "    return np.abs(positive_rate_male - positive_rate_female)\n",
    "    "
   ]
  },
  {
   "cell_type": "markdown",
   "metadata": {},
   "source": [
    "## GSG"
   ]
  },
  {
   "cell_type": "code",
   "execution_count": 21,
   "metadata": {},
   "outputs": [],
   "source": [
    "def standard_suf_gap_all_class_wise(y, y_hat, A, class_idx=1):\n",
    "    num_A = len(np.unique(A))\n",
    "    n_bins = 12\n",
    "    interpolate_kind = 'linear'\n",
    "   \n",
    "    y_hat = y_hat[:,class_idx]  # choose the specific column (class)\n",
    "\n",
    "    y_temp = copy.copy(y)\n",
    "    y_temp[np.where(y != class_idx)[0]] = 0  # make all the other classes as 0\n",
    "    y_temp[np.where(y == class_idx)[0]] = 1  # make the specific class as 1\n",
    "    y = y_temp\n",
    "\n",
    "    all_prob_true, all_prob_pred = calibration_curve(y, y_hat, n_bins=n_bins, pos_label=1)\n",
    "\n",
    "    if all_prob_true.shape[0] != n_bins:\n",
    "        logger.info('The range of prediction is not large enough for sufficiency gap computation, shrink the bins!')\n",
    "    n_bins = all_prob_true.shape[0]\n",
    "    groups_pred_true = np.zeros((num_A, n_bins))\n",
    "    groups_pred_prob = np.zeros((num_A, n_bins))\n",
    "\n",
    "    for i in range(len(np.unique(A))):\n",
    "        try:\n",
    "            t, p = calibration_curve(\n",
    "                y[A == np.unique(A)[i]], y_hat[A == np.unique(A)[i]], n_bins=n_bins)\n",
    "            if interpolate_kind:\n",
    "                new_x = all_prob_pred\n",
    "                f = interpolate.interp1d(\n",
    "                    p,\n",
    "                    t,\n",
    "                    bounds_error=False,\n",
    "                    fill_value=(t[0], t[-1]),\n",
    "                    kind=interpolate_kind,\n",
    "                )\n",
    "                t = f(new_x)\n",
    "                p = new_x\n",
    "            groups_pred_true[i] = t\n",
    "            groups_pred_prob[i] = p\n",
    "        except:\n",
    "            continue\n",
    "    exp_x_given_a = np.abs(all_prob_true - groups_pred_true).mean(axis=1)\n",
    "    exp_x_a = exp_x_given_a.mean()\n",
    "\n",
    "    return exp_x_a"
   ]
  },
  {
   "cell_type": "markdown",
   "metadata": {},
   "source": [
    "## EOG:"
   ]
  },
  {
   "cell_type": "code",
   "execution_count": 22,
   "metadata": {},
   "outputs": [],
   "source": [
    "def equalized_odds_class_wise(y, y_hat, sensitive_features, class_idx):\n",
    "    # measure the difference between the true positive rates of different groups\n",
    "    y_hat = y_hat.ravel()\n",
    "    y = y.ravel()\n",
    "    sensitive_features = sensitive_features.ravel()\n",
    "    group_true_pos_r = []\n",
    "    values_of_sensible_feature = np.unique(sensitive_features)\n",
    "    true_positive = np.sum([1.0 if (y_hat[i] == class_idx and y[i] == class_idx)\n",
    "                             else 0.0 for i in range(len(y_hat))])\n",
    "    all_positive = np.sum([1.0 if y[i] == class_idx else 0.0 for i in range(len(y))])\n",
    "    all_true_pos_r = true_positive / all_positive\n",
    "    for val in values_of_sensible_feature:\n",
    "        positive_sensitive = np.sum([1.0 if (sensitive_features[i] == val) & (y[i] == class_idx)\n",
    "                                     else 0.0 for i in range(len(y_hat))])\n",
    "        if positive_sensitive > 0:\n",
    "            true_positive_sensitive = np.sum([1.0 if y_hat[i] == class_idx and\n",
    "                        sensitive_features[i] == val and y[i] == class_idx\n",
    "                         else 0.0 for i in range(len(y_hat))])\n",
    "            eo_tmp = true_positive_sensitive / positive_sensitive\n",
    "            group_true_pos_r.append(eo_tmp)\n",
    "\n",
    "    return np.mean(np.abs(all_true_pos_r - group_true_pos_r))"
   ]
  },
  {
   "cell_type": "markdown",
   "metadata": {},
   "source": [
    "## Hyperparameter Tuning"
   ]
  },
  {
   "cell_type": "code",
   "execution_count": 23,
   "metadata": {},
   "outputs": [],
   "source": [
    "from scipy.stats import uniform\n",
    "from sklearn.model_selection import RandomizedSearchCV\n"
   ]
  },
  {
   "cell_type": "markdown",
   "metadata": {},
   "source": [
    "### One seed for finding the optimal parameter grid on fairness metric (DPG, EOG, GSG)."
   ]
  },
  {
   "cell_type": "code",
   "execution_count": 24,
   "metadata": {},
   "outputs": [],
   "source": [
    "label = label.ravel()\n",
    "indices = np.arange(X.shape[0])\n",
    "X_train, X_test, y_train, y_test, idx_train, idx_test = train_test_split(X, label,\n",
    "                                                                            indices, test_size=0.3,\n",
    "                                                                            random_state=0, stratify=label)\n",
    "Y_train, Y_test = Y[idx_train], Y[idx_test]\n",
    "z_train, z_test = z[idx_train], z[idx_test]\n",
    "fair_cca = FairCCA(R=2)\n",
    "fair_cca.fit(X_train, Y_train, z_train)\n",
    "Y_train, X_train = fair_cca.transform(X_train, Y_train)\n",
    "Y_test, X_test = fair_cca.transform(X_test, Y_test)\n",
    "param_distributions = {\n",
    "    'C': stats.uniform(0.1, 200),  \n",
    "    'gamma': ['scale', 'auto'] + list(stats.uniform(0.1, 200).rvs(size=1000)), \n",
    "    'coef0': stats.uniform(0, 50), \n",
    "    'kernel': ['rbf', 'sigmoid']\n",
    "}\n",
    "model = SVC(probability=True)\n",
    "cv = StratifiedKFold(n_splits=5)\n",
    "random_search = RandomizedSearchCV(model, param_distributions, cv=cv, verbose=0, scoring='accuracy')\n",
    "random_search.fit(X_train, y_train)\n",
    "best_dp = float('inf')\n",
    "best_gs = float('inf')\n",
    "best_eo = float('inf')\n",
    "best_model_dp = None\n",
    "best_model_gs = None\n",
    "best_model_eo = None\n",
    "for model in random_search.cv_results_['params']:\n",
    "    model_instance = SVC(**model, probability=True).fit(X_train, y_train)\n",
    "    y_pred = model_instance.predict(X_train)\n",
    "    y_pred_prob = model_instance.predict_proba(X_train)\n",
    "    y_train = y_train.ravel()\n",
    "    EO_FR = []\n",
    "    for i in range(1,3): \n",
    "        EO_FR.append(equalized_odds_class_wise(y_train, y_pred, sensitive_features=z_train, class_idx=i))\n",
    "    EO_FR = np.mean(EO_FR)\n",
    "    \n",
    "    GS_FR = []\n",
    "    for i in range(0,2): \n",
    "        GS_FR.append(standard_suf_gap_all_class_wise(y_train, y_pred_prob, A=z_train, class_idx=i))\n",
    "    GS_FR = np.mean(GS_FR)\n",
    "    \n",
    "    DP_FR_pr = []\n",
    "    for i in range(1,3):\n",
    "        DP_FR_pr.append(demographic_parity_multiclass_PR(y_pred, z_train, class_idx=i))\n",
    "    DP_FR_pr = np.mean(DP_FR_pr)\n",
    "    if GS_FR < best_gs:\n",
    "        best_gs = GS_FR\n",
    "        best_model_gs = model_instance\n",
    "    if EO_FR < best_eo:\n",
    "        best_eo = EO_FR\n",
    "        best_model_eo = model_instance\n",
    "    if DP_FR_pr < best_dp:\n",
    "        best_dp = DP_FR_pr\n",
    "        best_model_dp = model_instance"
   ]
  },
  {
   "cell_type": "markdown",
   "metadata": {},
   "source": [
    "### One seed for finding the optimal parameter grid on Accuracy"
   ]
  },
  {
   "cell_type": "code",
   "execution_count": 25,
   "metadata": {},
   "outputs": [],
   "source": [
    "label = label.ravel()\n",
    "indices = np.arange(X.shape[0])\n",
    "X_train, X_test, y_train, y_test, idx_train, idx_test = train_test_split(X, label,\n",
    "                                                                            indices, test_size=0.3,\n",
    "                                                                            random_state=1, stratify=label)\n",
    "Y_train, Y_test = Y[idx_train], Y[idx_test]\n",
    "z_train, z_test = z[idx_train], z[idx_test]\n",
    "fair_cca = FairCCA(R=2)\n",
    "fair_cca.fit(X_train, Y_train, z_train)\n",
    "X_train, Y_train = fair_cca.transform(X_train, Y_train)\n",
    "X_test, Y_test = fair_cca.transform(X_test, Y_test)\n",
    "param_grid = {\n",
    "    'C': [3.5, 195],\n",
    "    'coef0': [15, 0.9, 201],\n",
    "    'gamma': [450, 'scale'], \n",
    "    'kernel': ['rbf', 'sigmoid'] \n",
    "}\n",
    "\n",
    "model = SVC(probability=True)\n",
    "cv = StratifiedKFold(n_splits=5)\n",
    "grid_search2 = GridSearchCV(model, param_grid, cv=cv, verbose=0, scoring='accuracy')\n",
    "grid_search2.fit(X_train, y_train)\n",
    "\n",
    "for model in grid_search2.cv_results_['params']:\n",
    "    model_instance = SVC(**model, probability=True).fit(X_train, y_train)\n",
    "    y_pred = model_instance.predict(X_train)\n",
    "    y_pred_prob = model_instance.predict_proba(X_train)\n",
    "    y_train = y_train.ravel()\n",
    "    EO_FR = []\n",
    "    for i in range(1,3): # 3-Classes\n",
    "        EO_FR.append(equalized_odds_class_wise(y_train, y_pred, sensitive_features=z_train, class_idx=i))\n",
    "    EO_FR = np.mean(EO_FR)\n",
    "    \n",
    "    GS_FR = []\n",
    "    for i in range(0,2): # 3-Classes\n",
    "        GS_FR.append(standard_suf_gap_all_class_wise(y_train, y_pred_prob, A=z_train, class_idx=i))\n",
    "    GS_FR = np.mean(GS_FR)\n",
    "    \n",
    "    DP_FR_pr = []\n",
    "    for i in range(1,3): # 3-Classes\n",
    "        DP_FR_pr.append(demographic_parity_multiclass_PR(y_pred, z_train, class_idx=i))\n",
    "    DP_FR_pr = np.mean(DP_FR_pr)\n",
    "    if GS_FR < best_gs:\n",
    "        best_gs = GS_FR\n",
    "        best_model_gs = model_instance\n",
    "    if EO_FR < best_eo:\n",
    "        best_eo = EO_FR\n",
    "        best_model_eo = model_instance\n",
    "    if DP_FR_pr < best_dp:\n",
    "        best_dp = DP_FR_pr\n",
    "        best_model_dp = model_instance\n"
   ]
  },
  {
   "cell_type": "code",
   "execution_count": 26,
   "metadata": {},
   "outputs": [
    {
     "data": {
      "text/plain": [
       "{'C': 195, 'coef0': 15, 'gamma': 450, 'kernel': 'sigmoid'}"
      ]
     },
     "execution_count": 26,
     "metadata": {},
     "output_type": "execute_result"
    }
   ],
   "source": [
    "grid_search2.best_params_"
   ]
  },
  {
   "cell_type": "markdown",
   "metadata": {},
   "source": [
    "## Classifier Parameter Grid Setup"
   ]
  },
  {
   "cell_type": "code",
   "execution_count": 27,
   "metadata": {},
   "outputs": [],
   "source": [
    "param_grid1 = {\n",
    "    'C': [195],\n",
    "    'coef0': [15],\n",
    "    'gamma': [450],\n",
    "    'kernel': ['sigmoid'],\n",
    "}"
   ]
  },
  {
   "cell_type": "markdown",
   "metadata": {},
   "source": [
    "## Classification for FRCCA processed data"
   ]
  },
  {
   "cell_type": "code",
   "execution_count": 28,
   "metadata": {},
   "outputs": [],
   "source": [
    "seeds = [42, 43, 44, 45, 46]\n",
    "idx_train_all = []\n",
    "idx_test_all = []\n",
    "accuracy_FR = []\n",
    "all_y_pred_FR = []\n",
    "sensitive = []\n",
    "all_y_test_FR = []\n",
    "all_X_train = []\n",
    "all_X_test = []\n",
    "all_y_train = []\n",
    "all_y_test = []\n",
    "best_params = []\n",
    "all_y_pred_prob_FR = []"
   ]
  },
  {
   "cell_type": "code",
   "execution_count": 29,
   "metadata": {},
   "outputs": [],
   "source": [
    "for seed in seeds:\n",
    "    label = label.ravel()\n",
    "    indices = np.arange(X.shape[0])\n",
    "    'Split the two modalities X, Y into Training set and Testing set'\n",
    "    X_train, X_test, y_train, y_test, idx_train, idx_test = train_test_split(X, label,\n",
    "                                                                            indices, test_size=0.3,\n",
    "                                                                            random_state=seed, stratify=label)\n",
    "    Y_train, Y_test = Y[idx_train], Y[idx_test]\n",
    "    z_train, z_test = z[idx_train], z[idx_test]\n",
    "    \n",
    "    \n",
    "    all_X_train.append(X_train.tolist())\n",
    "    all_X_test.append(X_test.tolist())\n",
    "    all_y_train.append(y_train.tolist())\n",
    "    all_y_test.append(y_test.tolist())\n",
    "    \n",
    "    'FRCCA on X_train/Y_train, and get the weights U/V'\n",
    "    \"X_train := Training Dataset of Modality X utilized in the classification by FRCCA,\"\n",
    "    \"Y_train := Training Dataset of Modality Y utilized in the classification by FRCCA\"\n",
    "    fair_cca = FairCCA(R=2)\n",
    "    fair_cca.fit(X_train, Y_train, z_train)\n",
    "    X_train, Y_train = fair_cca.transform(X_train, Y_train)\n",
    "    X_test, Y_test = fair_cca.transform(X_test, Y_test)\n",
    "    'Store the index of the Training and Testing samples for further usage'\n",
    "    idx_train_all.append(idx_train.tolist())\n",
    "    idx_test_all.append(idx_test.tolist())\n",
    "    scaler = StandardScaler()\n",
    "    X_train = scaler.fit_transform(X_train)\n",
    "    X_test = scaler.transform(X_test)\n",
    "    X_train = X_train / (np.sqrt(np.sum(X_train**2, axis=0)))\n",
    "    Y_train = Y_train / (np.sqrt(np.sum(Y_train**2, axis=0)))\n",
    "    X_test = X_test / (np.sqrt(np.sum(X_test**2, axis=0)))\n",
    "    Y_test = Y_test / (np.sqrt(np.sum(Y_test**2, axis=0)))\n",
    "    svc1 = SVC(random_state=seed, probability=True, class_weight='balanced')\n",
    "    clf1 = GridSearchCV(svc1, param_grid1, n_jobs=None)\n",
    "    clf1.fit(X_train, y_train)\n",
    "    y_pred_FR = clf1.predict(X_test)\n",
    "    all_y_pred_FR.append(y_pred_FR.tolist())\n",
    "    all_y_test_FR.append(y_test.tolist())\n",
    "    accuracy = accuracy_score(y_test, y_pred_FR)\n",
    "    accuracy_FR.append(accuracy)\n",
    "    sensitive.append(z[idx_test])\n",
    "    best_param = clf1.best_params_\n",
    "    best_params.append(best_param)\n",
    "    y_pred_prob_FR = clf1.predict_proba(X_test)\n",
    "    all_y_pred_prob_FR.append(y_pred_prob_FR.tolist())\n",
    "accuracy_FR = np.array(accuracy_FR)\n",
    "all_y_pred_prob_FR = np.array(all_y_pred_prob_FR)\n",
    "all_y_pred_FR = np.array(all_y_pred_FR)\n",
    "all_y_test_FR = np.array(all_y_test_FR)\n",
    "all_X_train = np.array(all_X_train)\n",
    "all_X_test = np.array(all_X_test)\n",
    "all_y_train = np.array(all_y_train)\n",
    "all_y_test = np.array(all_y_test)\n"
   ]
  },
  {
   "cell_type": "markdown",
   "metadata": {},
   "source": [
    "## Classification for Traditional CCA processed data"
   ]
  },
  {
   "cell_type": "code",
   "execution_count": 31,
   "metadata": {},
   "outputs": [],
   "source": [
    "accuracy_trad = []\n",
    "all_y_pred_trad = []\n",
    "all_y_test_trad = []\n",
    "all_y_train_trad = []\n",
    "all_X_train_trad = []\n",
    "all_X_test_trad = []\n",
    "all_y_pred_prob_trad = []"
   ]
  },
  {
   "cell_type": "code",
   "execution_count": 32,
   "metadata": {},
   "outputs": [],
   "source": [
    "for i in range(len(seeds)):\n",
    "    X_train, Y_train = X[idx_train_all[i]], Y[idx_train_all[i]]\n",
    "    X_test, Y_test = X[idx_test_all[i]], Y[idx_test_all[i]]\n",
    "    cca1 = CCA(n_components=2)\n",
    "    cca1.fit(X_train, Y_train)\n",
    "    X_train, Y_train = cca1.transform(X_train, Y_train)\n",
    "    X_train = X_train / (np.sqrt(np.sum(X_train**2, axis=0)))\n",
    "    Y_train = Y_train / (np.sqrt(np.sum(Y_train**2, axis=0)))\n",
    "    X_test, Y_test = cca1.transform(X_test, Y_test)\n",
    "    X_test = X_test / (np.sqrt(np.sum(X_test**2, axis=0)))\n",
    "    Y_test = Y_test / (np.sqrt(np.sum(Y_test**2, axis=0)))\n",
    "    seed = seeds[i]\n",
    "    X_train_trad, y_train_trad = X_train, label[idx_train_all[i]].ravel()\n",
    "    idx_train = idx_train_all[i]\n",
    "    idx_test = idx_test_all[i]\n",
    "    X_test_trad = X_test\n",
    "    y_test_trad = label[idx_test].ravel()\n",
    "\n",
    "    scaler = StandardScaler()\n",
    "    X_train_trad = scaler.fit_transform(X_train_trad)\n",
    "    X_test_trad = scaler.transform(X_test_trad)\n",
    "\n",
    "    svc2 = SVC(random_state=seed, probability=True,class_weight='balanced')\n",
    "    clf2 = GridSearchCV(svc2, param_grid1, n_jobs=None)\n",
    "    clf2.fit(X_train_trad, y_train_trad)\n",
    "\n",
    "    y_pred_trad = clf2.predict(X_test_trad)\n",
    "    all_y_pred_trad.append(y_pred_trad.tolist())\n",
    "    all_y_train_trad.append(y_train_trad.tolist())\n",
    "    all_y_test_trad.append(y_test_trad.tolist())\n",
    "    all_X_train_trad.append(X_train_trad.tolist())\n",
    "    all_X_test_trad.append(X_test_trad.tolist())\n",
    "    accuracy = accuracy_score(y_test_trad, y_pred_trad)\n",
    "    accuracy_trad.append(accuracy)\n",
    "    y_pred_prob_trad = clf2.predict_proba(X_test_trad)\n",
    "    all_y_pred_prob_trad.append(y_pred_prob_trad.tolist())\n",
    "accuracy_trad = np.array(accuracy_trad)\n",
    "all_y_pred_trad = np.array(all_y_pred_trad)\n",
    "all_y_train_trad = np.array(all_y_train_trad)\n",
    "all_y_test_trad = np.array(all_y_test_trad)\n",
    "all_X_train_trad = np.array(all_X_train_trad)\n",
    "all_X_test_trad = np.array(all_X_test_trad)\n",
    "all_y_pred_prob_trad = np.array(all_y_pred_prob_trad)"
   ]
  },
  {
   "cell_type": "code",
   "execution_count": 33,
   "metadata": {},
   "outputs": [
    {
     "data": {
      "text/plain": [
       "(5, 150, 1)"
      ]
     },
     "execution_count": 33,
     "metadata": {},
     "output_type": "execute_result"
    }
   ],
   "source": [
    "sensitive = np.array(sensitive)\n",
    "sensitive.shape"
   ]
  },
  {
   "cell_type": "markdown",
   "metadata": {},
   "source": [
    "## Classification for SFCCA"
   ]
  },
  {
   "cell_type": "code",
   "execution_count": 34,
   "metadata": {},
   "outputs": [],
   "source": [
    "all_X_SFCCA = []\n",
    "all_Y_SFCCA = []\n",
    "for i in range(0,len(seeds)):\n",
    "    address = fr\"...\"\n",
    "    mat = scipy.io.loadmat(address)\n",
    "    U = mat['U_SF']\n",
    "    V = mat['V_SF']\n",
    "    X_SFCCA = X@U\n",
    "    Y_SFCCA = Y@V\n",
    "    all_X_SFCCA.append(X_SFCCA.tolist())\n",
    "    all_Y_SFCCA.append(Y_SFCCA.tolist())\n",
    "all_X_SFCCA = np.array(all_X_SFCCA)\n",
    "all_Y_SFCCA = np.array(all_Y_SFCCA)"
   ]
  },
  {
   "cell_type": "code",
   "execution_count": 35,
   "metadata": {},
   "outputs": [],
   "source": [
    "accuracy_SFCCA = []\n",
    "all_y_pred_SFCCA = []\n",
    "all_y_test_SFCCA = []\n",
    "all_y_train_SFCCA = []\n",
    "all_X_train_SFCCA = []\n",
    "all_X_test_SFCCA = []\n",
    "all_y_pred_prob_SFCCA = []"
   ]
  },
  {
   "cell_type": "code",
   "execution_count": 36,
   "metadata": {},
   "outputs": [],
   "source": [
    "for i in range(len(seeds)):\n",
    "    seed = seeds[i]\n",
    "    idx_train = idx_train_all[i]\n",
    "    idx_test = idx_test_all[i]\n",
    "\n",
    "    X_train_SFCCA = all_X_SFCCA[i][idx_train]\n",
    "    X_test_SFCCA = all_X_SFCCA[i][idx_test]\n",
    "    y_train_SFCCA = label[idx_train].ravel()\n",
    "    y_test_SFCCA = label[idx_test].ravel()\n",
    "    X_train_SFCCA = X_train_SFCCA / (np.sqrt(np.sum(X_train_SFCCA**2, axis=0)))\n",
    "    X_test_SFCCA = X_test_SFCCA / (np.sqrt(np.sum(X_test_SFCCA**2, axis=0)))\n",
    "    scaler = StandardScaler()\n",
    "    X_train_SFCCA = scaler.fit_transform(X_train_SFCCA)\n",
    "    X_test_SFCCA = scaler.transform(X_test_SFCCA)\n",
    "\n",
    "    svc5 = SVC(random_state=seed, probability=True,class_weight='balanced')\n",
    "    clf5 = GridSearchCV(svc5, param_grid1, n_jobs=None)\n",
    "    clf5.fit(X_train_SFCCA, y_train_SFCCA)\n",
    "\n",
    "    y_pred_SFCCA = clf5.predict(X_test_SFCCA)\n",
    "    all_y_pred_SFCCA.append(y_pred_SFCCA.tolist())\n",
    "    all_y_train_SFCCA.append(y_train_SFCCA.tolist())\n",
    "    all_y_test_SFCCA.append(y_test_SFCCA.tolist())\n",
    "    all_X_train_SFCCA.append(X_train_SFCCA.tolist())\n",
    "    all_X_test_SFCCA.append(X_test_SFCCA.tolist())\n",
    "    accuracy = accuracy_score(y_test_SFCCA, y_pred_SFCCA)\n",
    "    accuracy_SFCCA.append(accuracy)\n",
    "    y_pred_prob_SFCCA = clf5.predict_proba(X_test_SFCCA)\n",
    "    all_y_pred_prob_SFCCA.append(y_pred_prob_SFCCA.tolist())\n",
    "accuracy_SFCCA = np.array(accuracy_SFCCA)\n",
    "all_y_pred_SFCCA = np.array(all_y_pred_SFCCA)\n",
    "all_y_train_SFCCA = np.array(all_y_train_SFCCA)\n",
    "all_y_test_SFCCA = np.array(all_y_test_SFCCA)\n",
    "all_X_train_SFCCA = np.array(all_X_train_SFCCA)\n",
    "all_X_test_SFCCA = np.array(all_X_test_SFCCA)\n",
    "all_y_pred_prob_SFCCA = np.array(all_y_pred_prob_SFCCA)"
   ]
  },
  {
   "cell_type": "markdown",
   "metadata": {},
   "source": [
    "## Classification for MFCCA"
   ]
  },
  {
   "cell_type": "code",
   "execution_count": 37,
   "metadata": {},
   "outputs": [],
   "source": [
    "all_X_MFCCA = []\n",
    "all_Y_MFCCA = []\n",
    "for i in range(0,len(seeds)):\n",
    "    address = fr\"...\"\n",
    "    mat = scipy.io.loadmat(address)\n",
    "    U = mat['U_MF']\n",
    "    V = mat['V_MF']\n",
    "    X_MFCCA = X@U\n",
    "    Y_MFCCA = Y@V\n",
    "    all_X_MFCCA.append(X_MFCCA.tolist())\n",
    "    all_Y_MFCCA.append(Y_MFCCA.tolist())\n",
    "all_X_MFCCA = np.array(all_X_MFCCA)\n",
    "all_Y_MFCCA = np.array(all_Y_MFCCA)"
   ]
  },
  {
   "cell_type": "code",
   "execution_count": 38,
   "metadata": {},
   "outputs": [],
   "source": [
    "accuracy_MFCCA = []\n",
    "all_y_pred_MFCCA = []\n",
    "all_y_test_MFCCA = []\n",
    "all_y_train_MFCCA = []\n",
    "all_X_train_MFCCA = []\n",
    "all_X_test_MFCCA = []\n",
    "all_y_pred_prob_MFCCA = []"
   ]
  },
  {
   "cell_type": "code",
   "execution_count": 39,
   "metadata": {},
   "outputs": [],
   "source": [
    "for i in range(len(seeds)):\n",
    "    seed = seeds[i]\n",
    "    idx_train = idx_train_all[i]\n",
    "    idx_test = idx_test_all[i]\n",
    "    X_train_MFCCA = all_X_MFCCA[i][idx_train]\n",
    "    X_test_MFCCA = all_X_MFCCA[i][idx_test]\n",
    "    y_train_MFCCA = label[idx_train].ravel()\n",
    "    y_test_MFCCA = label[idx_test].ravel()\n",
    "    X_train_MFCCA = X_train_MFCCA / (np.sqrt(np.sum(X_train_MFCCA**2, axis=0)))\n",
    "    X_test_MFCCA = X_test_MFCCA / (np.sqrt(np.sum(X_test_MFCCA**2, axis=0)))\n",
    "    scaler = StandardScaler()\n",
    "    X_train_MFCCA = scaler.fit_transform(X_train_MFCCA)\n",
    "    X_test_MFCCA = scaler.transform(X_test_MFCCA)\n",
    "    svc6 = SVC(random_state=seed, probability=True,class_weight='balanced')\n",
    "    clf6 = GridSearchCV(svc6, param_grid1, n_jobs=None)\n",
    "    clf6.fit(X_train_MFCCA, y_train_MFCCA)\n",
    "\n",
    "    y_pred_MFCCA = clf6.predict(X_test_MFCCA)\n",
    "    all_y_pred_MFCCA.append(y_pred_MFCCA.tolist())\n",
    "    all_y_train_MFCCA.append(y_train_MFCCA.tolist())\n",
    "    all_y_test_MFCCA.append(y_test_MFCCA.tolist())\n",
    "    all_X_train_MFCCA.append(X_train_MFCCA.tolist())\n",
    "    all_X_test_MFCCA.append(X_test_MFCCA.tolist())\n",
    "    accuracy = accuracy_score(y_test_MFCCA, y_pred_MFCCA)\n",
    "    accuracy_MFCCA.append(accuracy)\n",
    "    y_pred_prob_MFCCA = clf6.predict_proba(X_test_MFCCA)\n",
    "    all_y_pred_prob_MFCCA.append(y_pred_prob_MFCCA.tolist())\n",
    "\n",
    "accuracy_MFCCA = np.array(accuracy_MFCCA)\n",
    "all_y_pred_MFCCA = np.array(all_y_pred_MFCCA)\n",
    "all_y_train_MFCCA = np.array(all_y_train_MFCCA)\n",
    "all_y_test_MFCCA = np.array(all_y_test_MFCCA)\n",
    "all_X_train_MFCCA = np.array(all_X_train_MFCCA)\n",
    "all_X_test_MFCCA = np.array(all_X_test_MFCCA)\n",
    "all_y_pred_prob_MFCCA = np.array(all_y_pred_prob_MFCCA)"
   ]
  },
  {
   "cell_type": "code",
   "execution_count": 40,
   "metadata": {},
   "outputs": [],
   "source": [
    "accuracy_svm = []\n",
    "all_y_pred_svm = []\n",
    "all_y_test_svm = []\n",
    "all_y_train_svm = []\n",
    "all_X_train_svm = []\n",
    "all_X_test_svm = []\n",
    "all_y_pred_prob_svm = []"
   ]
  },
  {
   "cell_type": "code",
   "execution_count": 41,
   "metadata": {},
   "outputs": [],
   "source": [
    "for i in range(len(seeds)):\n",
    "    X_train, Y_train = X[idx_train_all[i]], Y[idx_train_all[i]]\n",
    "    X_test, Y_test = X[idx_test_all[i]], Y[idx_test_all[i]]\n",
    "    X_train = X_train / (np.sqrt(np.sum(X_train**2, axis=0)))\n",
    "    Y_train = Y_train / (np.sqrt(np.sum(Y_train**2, axis=0)))\n",
    "    X_test = X_test / (np.sqrt(np.sum(X_test**2, axis=0)))\n",
    "    Y_test = Y_test / (np.sqrt(np.sum(Y_test**2, axis=0)))\n",
    "    seed = seeds[i]\n",
    "    X_train_svm, y_train_svm = X_train, label[idx_train_all[i]].ravel()\n",
    "    idx_train = idx_train_all[i]\n",
    "    idx_test = idx_test_all[i]\n",
    "    X_test_svm = X_test\n",
    "    y_test_svm = label[idx_test].ravel()\n",
    "    scaler = StandardScaler()\n",
    "    X_train_svm = scaler.fit_transform(X_train_svm)\n",
    "    X_test_svm = scaler.transform(X_test_svm)\n",
    "    svc7 = SVC(random_state=seed, probability=True, class_weight='balanced')\n",
    "    clf7 = GridSearchCV(svc7, param_grid1, n_jobs=None)\n",
    "    clf7.fit(X_train_svm, y_train_svm)\n",
    "\n",
    "    y_pred_svm = clf7.predict(X_test_svm)\n",
    "    all_y_pred_svm.append(y_pred_svm.tolist())\n",
    "    all_y_train_svm.append(y_train_svm.tolist())\n",
    "    all_y_test_svm.append(y_test_svm.tolist())\n",
    "    all_X_train_svm.append(X_train_svm.tolist())\n",
    "    all_X_test_svm.append(X_test_svm.tolist())\n",
    "    accuracy = accuracy_score(y_test_svm, y_pred_svm)\n",
    "    accuracy_svm.append(accuracy)\n",
    "    y_pred_prob_svm = clf7.predict_proba(X_test_svm)\n",
    "    all_y_pred_prob_svm.append(y_pred_prob_svm.tolist())\n",
    "accuracy_svm = np.array(accuracy_svm)\n",
    "all_y_pred_svm = np.array(all_y_pred_svm)\n",
    "all_y_train_svm = np.array(all_y_train_svm)\n",
    "all_y_test_svm = np.array(all_y_test_svm)\n",
    "all_X_train_svm = np.array(all_X_train_svm)\n",
    "all_X_test_svm = np.array(all_X_test_svm)\n",
    "all_y_pred_prob_svm = np.array(all_y_pred_prob_svm)\n"
   ]
  },
  {
   "cell_type": "code",
   "execution_count": 42,
   "metadata": {},
   "outputs": [],
   "source": [
    "all_DP_FR_pr = []\n",
    "for j in range(len(seeds)):\n",
    "    DP_FR_pr = []\n",
    "    for i in range(1,3): # 3-Classes\n",
    "        DP_FR_pr.append(demographic_parity_multiclass_PR(all_y_pred_FR[j], sensitive[j], class_idx=i))\n",
    "    DP_FR_pr = np.mean(DP_FR_pr)\n",
    "    all_DP_FR_pr.append(DP_FR_pr)\n",
    "all_DP_FR_pr = np.array(all_DP_FR_pr)"
   ]
  },
  {
   "cell_type": "code",
   "execution_count": 43,
   "metadata": {},
   "outputs": [],
   "source": [
    "all_DP_trad_pr = []\n",
    "for j in range(len(seeds)):\n",
    "    DP_trad_pr = []\n",
    "    for i in range(1,3): # 3-Classes\n",
    "        DP_trad_pr.append(demographic_parity_multiclass_PR(all_y_pred_trad[j], sensitive[j], class_idx=i))\n",
    "    DP_trad_pr = np.mean(DP_trad_pr)\n",
    "    all_DP_trad_pr.append(DP_trad_pr)\n",
    "all_DP_trad_pr = np.array(all_DP_trad_pr)"
   ]
  },
  {
   "cell_type": "code",
   "execution_count": 44,
   "metadata": {},
   "outputs": [],
   "source": [
    "all_DP_SFCCA_pr = []\n",
    "for j in range(len(seeds)):\n",
    "    DP_SFCCA_pr = []\n",
    "    for i in range(1,3): # 3-Classes\n",
    "        DP_SFCCA_pr.append(demographic_parity_multiclass_PR(all_y_pred_SFCCA[j], sensitive[j], class_idx=i))\n",
    "    DP_SFCCA_pr = np.mean(DP_SFCCA_pr)\n",
    "    all_DP_SFCCA_pr.append(DP_SFCCA_pr)\n",
    "all_DP_SFCCA_pr = np.array(all_DP_SFCCA_pr)"
   ]
  },
  {
   "cell_type": "code",
   "execution_count": 45,
   "metadata": {},
   "outputs": [],
   "source": [
    "all_DP_MFCCA_pr = []\n",
    "for j in range(len(seeds)):\n",
    "    DP_MFCCA_pr = []\n",
    "    for i in range(1,3): # 3-Classes\n",
    "        DP_MFCCA_pr.append(demographic_parity_multiclass_PR(all_y_pred_MFCCA[j], sensitive[j], class_idx=i))\n",
    "    DP_MFCCA_pr = np.mean(DP_MFCCA_pr)\n",
    "    all_DP_MFCCA_pr.append(DP_MFCCA_pr)\n",
    "all_DP_MFCCA_pr = np.array(all_DP_MFCCA_pr)"
   ]
  },
  {
   "cell_type": "code",
   "execution_count": 46,
   "metadata": {},
   "outputs": [],
   "source": [
    "all_DP_svm_pr = []\n",
    "for j in range(len(seeds)):\n",
    "    DP_svm_pr = []\n",
    "    for i in range(1,3): # 3-Classes\n",
    "        DP_svm_pr.append(demographic_parity_multiclass_PR(all_y_pred_svm[j], sensitive[j], class_idx=i))\n",
    "    DP_svm_pr = np.mean(DP_svm_pr)\n",
    "    all_DP_svm_pr.append(DP_svm_pr)\n",
    "all_DP_svm_pr = np.array(all_DP_svm_pr)"
   ]
  },
  {
   "cell_type": "markdown",
   "metadata": {},
   "source": [
    "## EO for FR-CCA"
   ]
  },
  {
   "cell_type": "code",
   "execution_count": 47,
   "metadata": {},
   "outputs": [],
   "source": [
    "all_EO_FR = []\n",
    "for j in range(len(seeds)):\n",
    "    EO_FR = []\n",
    "    for i in range(1,3): # 3-Classes\n",
    "        EO_FR.append(equalized_odds_class_wise(all_y_test_FR[j], all_y_pred_FR[j], sensitive_features=sensitive[j], class_idx=i))\n",
    "    EO_FR = np.mean(EO_FR)\n",
    "    all_EO_FR.append(EO_FR)\n",
    "all_EO_FR = np.array(all_EO_FR)"
   ]
  },
  {
   "cell_type": "markdown",
   "metadata": {},
   "source": [
    "## EO for Traditional CCA"
   ]
  },
  {
   "cell_type": "code",
   "execution_count": 48,
   "metadata": {},
   "outputs": [],
   "source": [
    "all_EO_trad = []\n",
    "for j in range(len(seeds)):\n",
    "    EO_trad = []\n",
    "    for i in range(1,3): # 3-Classes\n",
    "        EO_trad.append(equalized_odds_class_wise(all_y_test_trad[j], all_y_pred_trad[j], sensitive_features=sensitive[j], class_idx=i))\n",
    "    EO_trad = np.mean(EO_trad)\n",
    "    all_EO_trad.append(EO_trad)\n",
    "all_EO_trad = np.array(all_EO_trad)\n"
   ]
  },
  {
   "cell_type": "markdown",
   "metadata": {},
   "source": [
    "## EO for SFCCA"
   ]
  },
  {
   "cell_type": "code",
   "execution_count": 49,
   "metadata": {},
   "outputs": [],
   "source": [
    "all_EO_SFCCA = []\n",
    "for j in range(len(seeds)):\n",
    "    EO_SFCCA = []\n",
    "    for i in range(1,3): # 3-Classes\n",
    "        EO_SFCCA.append(equalized_odds_class_wise(all_y_test_SFCCA[j], all_y_pred_SFCCA[j], sensitive_features=sensitive[j], class_idx=i))\n",
    "    EO_SFCCA = np.mean(EO_SFCCA)\n",
    "    all_EO_SFCCA.append(EO_SFCCA)\n",
    "all_EO_SFCCA = np.array(all_EO_SFCCA)\n"
   ]
  },
  {
   "cell_type": "code",
   "execution_count": 50,
   "metadata": {},
   "outputs": [],
   "source": [
    "all_EO_MFCCA = []\n",
    "for j in range(len(seeds)):\n",
    "    EO_MFCCA = []\n",
    "    for i in range(1,2): # 3-Classes\n",
    "        EO_MFCCA.append(equalized_odds_class_wise(all_y_test_MFCCA[j], all_y_pred_MFCCA[j], sensitive_features=sensitive[j], class_idx=i))\n",
    "    EO_MFCCA= np.mean(EO_MFCCA)\n",
    "    all_EO_MFCCA.append(EO_MFCCA)\n",
    "all_EO_MFCCA = np.array(all_EO_MFCCA)"
   ]
  },
  {
   "cell_type": "code",
   "execution_count": 51,
   "metadata": {},
   "outputs": [],
   "source": [
    "all_EO_svm = []\n",
    "for j in range(len(seeds)):\n",
    "    EO_svm = []\n",
    "    for i in range(1,2): # 3-Classes\n",
    "        EO_svm.append(equalized_odds_class_wise(all_y_test_svm[j], all_y_pred_svm[j], sensitive_features=sensitive[j], class_idx=i))\n",
    "    EO_svm= np.mean(EO_svm)\n",
    "    all_EO_svm.append(EO_svm)\n",
    "all_EO_svm = np.array(all_EO_svm)"
   ]
  },
  {
   "cell_type": "code",
   "execution_count": 52,
   "metadata": {},
   "outputs": [],
   "source": [
    "all_GS_FR = []\n",
    "for j in range(len(seeds)):\n",
    "    GS_FR = []\n",
    "    for i in range(0,2): # 3-Classes\n",
    "        GS_FR.append(standard_suf_gap_all_class_wise(all_y_test_FR[j], all_y_pred_prob_FR[j], A=sensitive[j], class_idx=i))\n",
    "    GS_FR = np.mean(GS_FR)\n",
    "    all_GS_FR.append(GS_FR)\n",
    "all_GS_FR = np.array(all_GS_FR) "
   ]
  },
  {
   "cell_type": "code",
   "execution_count": 53,
   "metadata": {},
   "outputs": [],
   "source": [
    "all_GS_trad = []\n",
    "for j in range(len(seeds)):\n",
    "    GS_trad = []\n",
    "    for i in range(0,2): # 3-Classes\n",
    "        GS_trad.append(standard_suf_gap_all_class_wise(all_y_test_trad[j], all_y_pred_prob_trad[j], A=sensitive[j], class_idx=i))\n",
    "    GS_trad = np.mean(GS_trad)\n",
    "    all_GS_trad.append(GS_trad)\n",
    "all_GS_trad = np.array(all_GS_trad) "
   ]
  },
  {
   "cell_type": "code",
   "execution_count": 54,
   "metadata": {},
   "outputs": [],
   "source": [
    "all_GS_SF = []\n",
    "for j in range(len(seeds)):\n",
    "    GS_SF = []\n",
    "    for i in range(0,2): # 3-Classes\n",
    "        GS_SF.append(standard_suf_gap_all_class_wise(all_y_test_SFCCA[j], all_y_pred_prob_SFCCA[j], A=sensitive[j], class_idx=i))\n",
    "    GS_SF = np.mean(GS_SF)\n",
    "    all_GS_SF.append(GS_SF)\n",
    "all_GS_SF = np.array(all_GS_SF) "
   ]
  },
  {
   "cell_type": "code",
   "execution_count": 55,
   "metadata": {},
   "outputs": [],
   "source": [
    "all_GS_MF = []\n",
    "for j in range(len(seeds)):\n",
    "    GS_MF = []\n",
    "    for i in range(0,2): # 3-Classes\n",
    "        GS_MF.append(standard_suf_gap_all_class_wise(all_y_test_MFCCA[j], all_y_pred_prob_MFCCA[j], A=sensitive[j], class_idx=i))\n",
    "    GS_MF = np.mean(GS_MF)\n",
    "    all_GS_MF.append(GS_MF)\n",
    "all_GS_MF = np.array(all_GS_MF) "
   ]
  },
  {
   "cell_type": "code",
   "execution_count": 56,
   "metadata": {},
   "outputs": [],
   "source": [
    "all_GS_svm = []\n",
    "for j in range(len(seeds)):\n",
    "    GS_svm = []\n",
    "    for i in range(0,2): # 3-Classes\n",
    "        GS_svm.append(standard_suf_gap_all_class_wise(all_y_test_svm[j], all_y_pred_prob_svm[j], A=sensitive[j], class_idx=i))\n",
    "    GS_svm = np.mean(GS_svm)\n",
    "    all_GS_svm.append(GS_svm)\n",
    "all_GS_svm = np.array(all_GS_svm)"
   ]
  },
  {
   "cell_type": "markdown",
   "metadata": {},
   "source": [
    "## Plot for Accuracy, EO, and DP between FRCCA & Traditional CCA"
   ]
  },
  {
   "cell_type": "code",
   "execution_count": 58,
   "metadata": {},
   "outputs": [],
   "source": [
    "DP_FRCCA_std = np.std(all_DP_FR_pr)\n",
    "DP_trad_std = np.std(all_DP_trad_pr)\n",
    "DP_SFCCA_std = np.std(all_DP_SFCCA_pr)\n",
    "DP_MFCCA_std = np.std(all_DP_MFCCA_pr)\n",
    "DP_svm_std = np.std(all_DP_svm_pr)\n",
    "\n",
    "EO_FRCCA_std = np.std(all_EO_FR)\n",
    "EO_trad_std = np.std(all_EO_trad)\n",
    "EO_SFCCA_std = np.std(all_EO_SFCCA)\n",
    "EO_MFCCA_std = np.std(all_EO_MFCCA)\n",
    "EO_svm_std = np.std(all_EO_svm)\n",
    "\n",
    "accuracy_FR_std = np.std(accuracy_FR)\n",
    "accuracy_trad_std = np.std(accuracy_trad)\n",
    "accuracy_SFCCA_std = np.std(accuracy_SFCCA)\n",
    "accuracy_MFCCA_std = np.std(accuracy_MFCCA)\n",
    "accuracy_svm_std = np.std(accuracy_svm)\n",
    "\n",
    "GS_FR_std = np.std(all_GS_FR)\n",
    "GS_trad_std = np.std(all_GS_trad)\n",
    "GS_SFCCA_std = np.std(all_GS_SF)\n",
    "GS_MFCCA_std = np.std(all_GS_MF)\n",
    "GS_svm_std = np.std(all_GS_svm)"
   ]
  },
  {
   "cell_type": "markdown",
   "metadata": {},
   "source": [
    "# Comparison Plot"
   ]
  },
  {
   "cell_type": "code",
   "execution_count": 59,
   "metadata": {},
   "outputs": [
    {
     "data": {
      "image/png": "[encoded data removed]",
      "text/plain": [
       "<Figure size 800x500 with 1 Axes>"
      ]
     },
     "metadata": {},
     "output_type": "display_data"
    }
   ],
   "source": [
    "DP_FRCCA_mean = np.mean(all_DP_FR_pr)\n",
    "DP_trad_mean = np.mean(all_DP_trad_pr)\n",
    "DP_SFCCA_mean = np.mean(all_DP_SFCCA_pr)\n",
    "DP_MFCCA_mean = np.mean(all_DP_MFCCA_pr)\n",
    "DP_svm_mean = np.mean(all_DP_svm_pr)\n",
    "\n",
    "EO_FRCCA_mean = np.mean(all_EO_FR)\n",
    "EO_trad_mean = np.mean(all_EO_trad)\n",
    "EO_SFCCA_mean = np.mean(all_EO_SFCCA)\n",
    "EO_MFCCA_mean = np.mean(all_EO_MFCCA)\n",
    "EO_svm_mean = np.mean(all_EO_svm)\n",
    "\n",
    "accuracy_FR_mean = np.mean(accuracy_FR)\n",
    "accuracy_trad_mean = np.mean(accuracy_trad)\n",
    "accuracy_SFCCA_mean = np.mean(accuracy_SFCCA)\n",
    "accuracy_MFCCA_mean = np.mean(accuracy_MFCCA)\n",
    "accuracy_svm_mean = np.mean(accuracy_svm)\n",
    "\n",
    "GS_FR_mean = np.mean(all_GS_FR)\n",
    "GS_trad_mean = np.mean(all_GS_trad)\n",
    "GS_SFCCA_mean = np.mean(all_GS_SF)\n",
    "GS_MFCCA_mean = np.mean(all_GS_MF)\n",
    "GS_svm_mean = np.mean(all_GS_svm)\n",
    "data = {\n",
    "    'Algorithm': ['SVM', 'SVM', 'SVM', 'SVM',\n",
    "                  'CCA',  'CCA',  'CCA',  'CCA',\n",
    "                  'SF-CCA','SF-CCA','SF-CCA','SF-CCA',\n",
    "                  'MF-CCA','MF-CCA','MF-CCA','MF-CCA',\n",
    "                  'FR-CCA', 'FR-CCA', 'FR-CCA','FR-CCA'\n",
    "                 \n",
    "                  \n",
    "                  \n",
    "                  ],\n",
    "    'Metric': ['GSG', 'DPG', 'EOG', 'Accuracy',\n",
    "               'GSG', 'DPG', 'EOG', 'Accuracy', \n",
    "               'GSG', 'DPG', 'EOG', 'Accuracy',\n",
    "               'GSG', 'DPG', 'EOG', 'Accuracy',\n",
    "               'GSG', 'DPG', 'EOG', 'Accuracy'\n",
    "               ],\n",
    "    'Value': [GS_svm_mean, DP_svm_mean, EO_svm_mean, accuracy_svm_mean,\n",
    "              GS_trad_mean, DP_trad_mean, EO_trad_mean, accuracy_trad_mean,   \n",
    "              GS_SFCCA_mean, DP_SFCCA_mean, EO_SFCCA_mean, accuracy_SFCCA_mean,\n",
    "              GS_MFCCA_mean, DP_MFCCA_mean, EO_MFCCA_mean, accuracy_MFCCA_mean,\n",
    "              GS_FR_mean, DP_FRCCA_mean, EO_FRCCA_mean, accuracy_FR_mean\n",
    "              ]\n",
    "              }\n",
    "df = pd.DataFrame(data)\n",
    "\n",
    "sns.set(style=\"whitegrid\")\n",
    "\n",
    "plt.figure(figsize=(8,5))\n",
    "barplot = sns.barplot(x='Metric', y='Value', hue='Algorithm', data=df,\n",
    "                      palette=[\"#05b9e2\", \"#ffa510\", \"limegreen\", \"#9564bc\", \"#f74d4d\"], alpha=1)\n",
    "\n",
    "accuracy_values_with_std = {\n",
    "    'SVM': f\"{accuracy_svm_mean:.3f} ± {accuracy_svm_std:.3f}\",\n",
    "    'CCA': f\"{accuracy_trad_mean:.3f} ± {accuracy_trad_std:.3f}\",\n",
    "    'SF-CCA': f\"{accuracy_SFCCA_mean:.3f} ± {accuracy_SFCCA_std:.3f}\",\n",
    "    'MF-CCA': f\"{accuracy_MFCCA_mean:.3f} ± {accuracy_MFCCA_std:.3f}\",\n",
    "    'FR-CCA': f\"{accuracy_FR_mean:.3f} ± {accuracy_FR_std:.3f}\"\n",
    "}\n",
    "\n",
    "accuracy_text = \"\\n\".join([f\"{key}: {value}\" for key, value in accuracy_values_with_std.items()])\n",
    "accuracy_text = r\"$\\bf{Accuracy:}$\" + \"\\n\" + accuracy_text\n",
    "plt.text(0.37, 0.99, accuracy_text, fontsize=14, transform=plt.gca().transAxes, verticalalignment='top', bbox=dict(boxstyle=\"round,pad=0.3\", edgecolor=\"#cccccc\", facecolor=\"white\"))\n",
    "# for p in barplot.patches:\n",
    "#     height = p.get_height()\n",
    "#     barplot.text(p.get_x() + p.get_width() / 2., height, '{:1.3f}'.format(height), \n",
    "#             ha=\"center\", va='bottom', fontsize=11)\n",
    "plt.annotate('', xy=(0.53, 0.89), xytext=(0.785, 0.87),\n",
    "             xycoords='figure fraction', textcoords='figure fraction',\n",
    "            arrowprops=dict(arrowstyle='-|>', color='black',\n",
    "                             connectionstyle='angle,angleA=90,angleB=0,rad=0',\n",
    "                             lw=2))\n",
    "#plt.title('Comparison of Algorithms on Different Metrics', fontsize=18)\n",
    "plt.xlabel('Metric', fontsize=18, fontweight='bold')\n",
    "plt.ylabel('Value', fontsize=18, fontweight='bold')\n",
    "plt.xticks(fontsize=18)\n",
    "plt.yticks(fontsize=18)\n",
    "legend = plt.legend(fontsize=12, loc='upper center', bbox_to_anchor=(0.5, 1.1), ncol=5)\n",
    "\n",
    "plt.show()"
   ]
  },
  {
   "cell_type": "code",
   "execution_count": 69,
   "metadata": {},
   "outputs": [],
   "source": [
    "data1 = {\n",
    "  'acc_svm': accuracy_svm,\n",
    "  'gs_svm': all_GS_svm,\n",
    "  'dp_svm': all_DP_svm_pr,\n",
    "  'eo_svm': all_EO_svm,\n",
    "  \n",
    "  'acc_trad': accuracy_trad,\n",
    "  'gs_trad': all_GS_trad,\n",
    "  'dp_trad': all_DP_trad_pr,\n",
    "  'eo_trad': all_EO_trad,\n",
    "  \n",
    "  'acc_SFCCA': accuracy_SFCCA,\n",
    "  'gs_SFCCA': all_GS_SF,\n",
    "  'dp_SFCCA': all_DP_SFCCA_pr,\n",
    "  'eo_SFCCA': all_EO_SFCCA,\n",
    "  \n",
    "  'acc_MFCCA': accuracy_MFCCA,\n",
    "  'gs_MFCCA': all_GS_MF,\n",
    "  'dp_MFCCA': all_DP_MFCCA_pr,\n",
    "  'eo_MFCCA': all_EO_MFCCA,\n",
    "  \n",
    "  'acc_FRCCA': accuracy_FR,\n",
    "  'gs_FRCCA': all_GS_FR,\n",
    "  'dp_FRCCA': all_DP_FR_pr,\n",
    "  'eo_FRCCA': all_EO_FR,\n",
    "}\n",
    "df = pd.DataFrame(data1, index=['SVM', 'CCA', 'SFCCA', 'MFCCA', 'FRCCA'])\n",
    "df.to_csv('Synthetic_X.csv')"
   ]
  }
 ],
 "metadata": {
  "kernelspec": {
   "display_name": "base",
   "language": "python",
   "name": "python3"
  },
  "language_info": {
   "codemirror_mode": {
    "name": "ipython",
    "version": 3
   },
   "file_extension": ".py",
   "mimetype": "text/x-python",
   "name": "python",
   "nbconvert_exporter": "python",
   "pygments_lexer": "ipython3",
   "version": "3.10.7"
  }
 },
 "nbformat": 4,
 "nbformat_minor": 2
}
