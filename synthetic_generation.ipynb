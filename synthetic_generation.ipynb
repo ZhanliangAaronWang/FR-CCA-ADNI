{
 "cells": [
  {
   "cell_type": "code",
   "execution_count": 134,
   "metadata": {},
   "outputs": [],
   "source": [
    "import numpy as np\n",
    "from scipy.stats import ortho_group\n",
    "from sklearn.cross_decomposition import CCA\n",
    "from scipy.stats import multivariate_normal\n",
    "from scipy import linalg\n",
    "import pandas as pd\n",
    "import os"
   ]
  },
  {
   "cell_type": "code",
   "execution_count": 135,
   "metadata": {},
   "outputs": [],
   "source": [
    "path = '...'\n",
    "os.chdir(path=path)"
   ]
  },
  {
   "cell_type": "code",
   "execution_count": 136,
   "metadata": {},
   "outputs": [
    {
     "data": {
      "text/plain": [
       "((500, 55), (500, 60))"
      ]
     },
     "execution_count": 136,
     "metadata": {},
     "output_type": "execute_result"
    }
   ],
   "source": [
    "np.random.seed(0)\n",
    "V = ortho_group.rvs(dim=55)[:,:4]\n",
    "W = ortho_group.rvs(dim=60)[:,:4]\n",
    "rho = np.array([0.8, 0.6, 0.3, 0.5])\n",
    "def simcca(V, W, rho, n, noisex, noisey):\n",
    "    px, d = V.shape\n",
    "    py, _ = W.shape\n",
    "    \n",
    "    mux=np.zeros((px, 1))\n",
    "    muy=np.zeros((py, 1))\n",
    "\n",
    "    Qx, Rx = linalg.qr(V)\n",
    "    Qy, Ry = linalg.qr(W)\n",
    "\n",
    "    Cxx = Qx @ linalg.pinv(Rx.T)\n",
    "    Cyy = Qy @ linalg.pinv(Ry.T)\n",
    "    Cxy = Cxx @ np.diag(rho.flatten()) @ Cyy.T\n",
    "    Cxx = Cxx @ Cxx.T + noisex * (np.identity(px) - Qx @ Qx.T)\n",
    "    Cyy = Cyy @ Cyy.T + noisey * (np.identity(py) - Qy @ Qy.T)\n",
    "    A = np.concatenate((Cxx, Cxy.T), axis=0)\n",
    "    B = np.concatenate((Cxy, Cyy), axis=0)\n",
    "    C = np.concatenate((A, B), axis=1)\n",
    "    \n",
    "    \n",
    "    mu = np.concatenate((mux, muy), axis=0).flatten('F')\n",
    "    RV = multivariate_normal(mu, C, n).rvs(n)\n",
    "    X = RV[:, :px]\n",
    "    Y = RV[:, px:]\n",
    "    \n",
    "    return X, Y, C\n",
    "\n",
    "\n",
    "X, Y, C = simcca(V, W, rho, 500, noisex=1, noisey=1e-4)\n",
    "X.shape, Y.shape"
   ]
  },
  {
   "cell_type": "code",
   "execution_count": 137,
   "metadata": {},
   "outputs": [],
   "source": [
    "def generate_sensitive_attribute_from_XY(X, Y):\n",
    "    features_X_odd = X[:, 0::2] \n",
    "    features_Y_even = Y[:, 1::2]\n",
    "\n",
    "    combined_features = np.exp(np.sum(features_X_odd,axis=1))+np.exp(np.sum(features_Y_even, axis=1))\n",
    "    \n",
    "    sensitive_attr = combined_features\n",
    "    \n",
    "    threshold = np.mean(sensitive_attr)\n",
    "    \n",
    "    sensitive_attr_binary = (sensitive_attr > threshold).astype(int)\n",
    "    \n",
    "    return sensitive_attr_binary"
   ]
  },
  {
   "cell_type": "code",
   "execution_count": 138,
   "metadata": {},
   "outputs": [],
   "source": [
    "z = generate_sensitive_attribute_from_XY(X, Y)+1\n",
    "z = z.reshape(-1,1)"
   ]
  },
  {
   "cell_type": "code",
   "execution_count": 139,
   "metadata": {},
   "outputs": [],
   "source": [
    "X_c = X@V\n",
    "Y_c = Y@W"
   ]
  },
  {
   "cell_type": "code",
   "execution_count": 140,
   "metadata": {},
   "outputs": [],
   "source": [
    "X_c = X_c / (np.sqrt(np.sum(X_c**2, axis=0)))\n",
    "Y_c = Y_c / (np.sqrt(np.sum(Y_c**2, axis=0)))"
   ]
  },
  {
   "cell_type": "code",
   "execution_count": 141,
   "metadata": {},
   "outputs": [],
   "source": [
    "def generate_label(X, Y, z):\n",
    "    features_X = X[:, :27] \n",
    "    features_Y = Y[:, 30:]\n",
    "\n",
    "    combined_features = np.sum(features_X,axis=1) + np.sum(features_Y, axis=1) + np.exp(z).ravel()\n",
    "\n",
    "    threshold = np.mean(combined_features)\n",
    "    \n",
    "    binary_label = (combined_features > threshold).astype(int)\n",
    "    \n",
    "    return binary_label"
   ]
  },
  {
   "cell_type": "code",
   "execution_count": 142,
   "metadata": {},
   "outputs": [],
   "source": [
    "label = generate_label(X,Y,z)\n",
    "sensitive = generate_sensitive_attribute_from_XY(X,Y)"
   ]
  },
  {
   "cell_type": "code",
   "execution_count": 143,
   "metadata": {},
   "outputs": [],
   "source": [
    "label = pd.DataFrame(label)\n",
    "sensitive = pd.DataFrame(sensitive)"
   ]
  },
  {
   "cell_type": "code",
   "execution_count": 144,
   "metadata": {},
   "outputs": [],
   "source": [
    "X = pd.DataFrame(X)\n",
    "Y = pd.DataFrame(Y)\n",
    "label.to_csv(\"label.csv\")\n",
    "sensitive.to_csv(\"sensitive.csv\")\n",
    "X.to_csv(\"synthetic_data_X.csv\")\n",
    "Y.to_csv(\"synthetic_data_Y.csv\")"
   ]
  }
 ],
 "metadata": {
  "kernelspec": {
   "display_name": "Python 3",
   "language": "python",
   "name": "python3"
  },
  "language_info": {
   "codemirror_mode": {
    "name": "ipython",
    "version": 3
   },
   "file_extension": ".py",
   "mimetype": "text/x-python",
   "name": "python",
   "nbconvert_exporter": "python",
   "pygments_lexer": "ipython3",
   "version": "3.11.3"
  }
 },
 "nbformat": 4,
 "nbformat_minor": 2
}
